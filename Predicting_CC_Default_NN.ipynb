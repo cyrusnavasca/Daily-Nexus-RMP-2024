{
  "nbformat": 4,
  "nbformat_minor": 0,
  "metadata": {
    "colab": {
      "provenance": [],
      "authorship_tag": "ABX9TyM2QnpaJbkg8qnbP87TsYKs",
      "include_colab_link": true
    },
    "kernelspec": {
      "name": "python3",
      "display_name": "Python 3"
    },
    "language_info": {
      "name": "python"
    }
  },
  "cells": [
    {
      "cell_type": "markdown",
      "metadata": {
        "id": "view-in-github",
        "colab_type": "text"
      },
      "source": [
        "<a href=\"https://colab.research.google.com/github/cyrusnavasca/Daily-Nexus-RMP-2024/blob/main/Predicting_CC_Default_NN.ipynb\" target=\"_parent\"><img src=\"https://colab.research.google.com/assets/colab-badge.svg\" alt=\"Open In Colab\"/></a>"
      ]
    },
    {
      "cell_type": "markdown",
      "source": [
        "# 0. Importing Data + Variable Info"
      ],
      "metadata": {
        "id": "T5qs_gCuxGmy"
      }
    },
    {
      "cell_type": "code",
      "execution_count": null,
      "metadata": {
        "colab": {
          "base_uri": "https://localhost:8080/",
          "height": 339
        },
        "id": "3QWLVpumV1cT",
        "outputId": "71175583-e7bf-411c-c12f-b3df6988b43a"
      },
      "outputs": [
        {
          "output_type": "error",
          "ename": "FileNotFoundError",
          "evalue": "[Errno 2] No such file or directory: 'default_of_credit_card_clients.xls'",
          "traceback": [
            "\u001b[0;31m---------------------------------------------------------------------------\u001b[0m",
            "\u001b[0;31mFileNotFoundError\u001b[0m                         Traceback (most recent call last)",
            "\u001b[0;32m<ipython-input-1-0e069dc0f269>\u001b[0m in \u001b[0;36m<cell line: 0>\u001b[0;34m()\u001b[0m\n\u001b[1;32m      1\u001b[0m \u001b[0;32mimport\u001b[0m \u001b[0mpandas\u001b[0m \u001b[0;32mas\u001b[0m \u001b[0mpd\u001b[0m\u001b[0;34m\u001b[0m\u001b[0;34m\u001b[0m\u001b[0m\n\u001b[1;32m      2\u001b[0m \u001b[0;34m\u001b[0m\u001b[0m\n\u001b[0;32m----> 3\u001b[0;31m \u001b[0mcredit_data\u001b[0m \u001b[0;34m=\u001b[0m \u001b[0mpd\u001b[0m\u001b[0;34m.\u001b[0m\u001b[0mread_excel\u001b[0m\u001b[0;34m(\u001b[0m\u001b[0;34m\"default_of_credit_card_clients.xls\"\u001b[0m\u001b[0;34m)\u001b[0m\u001b[0;34m\u001b[0m\u001b[0;34m\u001b[0m\u001b[0m\n\u001b[0m\u001b[1;32m      4\u001b[0m \u001b[0mcredit_data\u001b[0m\u001b[0;34m.\u001b[0m\u001b[0mhead\u001b[0m\u001b[0;34m(\u001b[0m\u001b[0;34m)\u001b[0m\u001b[0;34m\u001b[0m\u001b[0;34m\u001b[0m\u001b[0m\n",
            "\u001b[0;32m/usr/local/lib/python3.11/dist-packages/pandas/io/excel/_base.py\u001b[0m in \u001b[0;36mread_excel\u001b[0;34m(io, sheet_name, header, names, index_col, usecols, dtype, engine, converters, true_values, false_values, skiprows, nrows, na_values, keep_default_na, na_filter, verbose, parse_dates, date_parser, date_format, thousands, decimal, comment, skipfooter, storage_options, dtype_backend, engine_kwargs)\u001b[0m\n\u001b[1;32m    493\u001b[0m     \u001b[0;32mif\u001b[0m \u001b[0;32mnot\u001b[0m \u001b[0misinstance\u001b[0m\u001b[0;34m(\u001b[0m\u001b[0mio\u001b[0m\u001b[0;34m,\u001b[0m \u001b[0mExcelFile\u001b[0m\u001b[0;34m)\u001b[0m\u001b[0;34m:\u001b[0m\u001b[0;34m\u001b[0m\u001b[0;34m\u001b[0m\u001b[0m\n\u001b[1;32m    494\u001b[0m         \u001b[0mshould_close\u001b[0m \u001b[0;34m=\u001b[0m \u001b[0;32mTrue\u001b[0m\u001b[0;34m\u001b[0m\u001b[0;34m\u001b[0m\u001b[0m\n\u001b[0;32m--> 495\u001b[0;31m         io = ExcelFile(\n\u001b[0m\u001b[1;32m    496\u001b[0m             \u001b[0mio\u001b[0m\u001b[0;34m,\u001b[0m\u001b[0;34m\u001b[0m\u001b[0;34m\u001b[0m\u001b[0m\n\u001b[1;32m    497\u001b[0m             \u001b[0mstorage_options\u001b[0m\u001b[0;34m=\u001b[0m\u001b[0mstorage_options\u001b[0m\u001b[0;34m,\u001b[0m\u001b[0;34m\u001b[0m\u001b[0;34m\u001b[0m\u001b[0m\n",
            "\u001b[0;32m/usr/local/lib/python3.11/dist-packages/pandas/io/excel/_base.py\u001b[0m in \u001b[0;36m__init__\u001b[0;34m(self, path_or_buffer, engine, storage_options, engine_kwargs)\u001b[0m\n\u001b[1;32m   1548\u001b[0m                 \u001b[0mext\u001b[0m \u001b[0;34m=\u001b[0m \u001b[0;34m\"xls\"\u001b[0m\u001b[0;34m\u001b[0m\u001b[0;34m\u001b[0m\u001b[0m\n\u001b[1;32m   1549\u001b[0m             \u001b[0;32melse\u001b[0m\u001b[0;34m:\u001b[0m\u001b[0;34m\u001b[0m\u001b[0;34m\u001b[0m\u001b[0m\n\u001b[0;32m-> 1550\u001b[0;31m                 ext = inspect_excel_format(\n\u001b[0m\u001b[1;32m   1551\u001b[0m                     \u001b[0mcontent_or_path\u001b[0m\u001b[0;34m=\u001b[0m\u001b[0mpath_or_buffer\u001b[0m\u001b[0;34m,\u001b[0m \u001b[0mstorage_options\u001b[0m\u001b[0;34m=\u001b[0m\u001b[0mstorage_options\u001b[0m\u001b[0;34m\u001b[0m\u001b[0;34m\u001b[0m\u001b[0m\n\u001b[1;32m   1552\u001b[0m                 )\n",
            "\u001b[0;32m/usr/local/lib/python3.11/dist-packages/pandas/io/excel/_base.py\u001b[0m in \u001b[0;36minspect_excel_format\u001b[0;34m(content_or_path, storage_options)\u001b[0m\n\u001b[1;32m   1400\u001b[0m         \u001b[0mcontent_or_path\u001b[0m \u001b[0;34m=\u001b[0m \u001b[0mBytesIO\u001b[0m\u001b[0;34m(\u001b[0m\u001b[0mcontent_or_path\u001b[0m\u001b[0;34m)\u001b[0m\u001b[0;34m\u001b[0m\u001b[0;34m\u001b[0m\u001b[0m\n\u001b[1;32m   1401\u001b[0m \u001b[0;34m\u001b[0m\u001b[0m\n\u001b[0;32m-> 1402\u001b[0;31m     with get_handle(\n\u001b[0m\u001b[1;32m   1403\u001b[0m         \u001b[0mcontent_or_path\u001b[0m\u001b[0;34m,\u001b[0m \u001b[0;34m\"rb\"\u001b[0m\u001b[0;34m,\u001b[0m \u001b[0mstorage_options\u001b[0m\u001b[0;34m=\u001b[0m\u001b[0mstorage_options\u001b[0m\u001b[0;34m,\u001b[0m \u001b[0mis_text\u001b[0m\u001b[0;34m=\u001b[0m\u001b[0;32mFalse\u001b[0m\u001b[0;34m\u001b[0m\u001b[0;34m\u001b[0m\u001b[0m\n\u001b[1;32m   1404\u001b[0m     ) as handle:\n",
            "\u001b[0;32m/usr/local/lib/python3.11/dist-packages/pandas/io/common.py\u001b[0m in \u001b[0;36mget_handle\u001b[0;34m(path_or_buf, mode, encoding, compression, memory_map, is_text, errors, storage_options)\u001b[0m\n\u001b[1;32m    880\u001b[0m         \u001b[0;32melse\u001b[0m\u001b[0;34m:\u001b[0m\u001b[0;34m\u001b[0m\u001b[0;34m\u001b[0m\u001b[0m\n\u001b[1;32m    881\u001b[0m             \u001b[0;31m# Binary mode\u001b[0m\u001b[0;34m\u001b[0m\u001b[0;34m\u001b[0m\u001b[0m\n\u001b[0;32m--> 882\u001b[0;31m             \u001b[0mhandle\u001b[0m \u001b[0;34m=\u001b[0m \u001b[0mopen\u001b[0m\u001b[0;34m(\u001b[0m\u001b[0mhandle\u001b[0m\u001b[0;34m,\u001b[0m \u001b[0mioargs\u001b[0m\u001b[0;34m.\u001b[0m\u001b[0mmode\u001b[0m\u001b[0;34m)\u001b[0m\u001b[0;34m\u001b[0m\u001b[0;34m\u001b[0m\u001b[0m\n\u001b[0m\u001b[1;32m    883\u001b[0m         \u001b[0mhandles\u001b[0m\u001b[0;34m.\u001b[0m\u001b[0mappend\u001b[0m\u001b[0;34m(\u001b[0m\u001b[0mhandle\u001b[0m\u001b[0;34m)\u001b[0m\u001b[0;34m\u001b[0m\u001b[0;34m\u001b[0m\u001b[0m\n\u001b[1;32m    884\u001b[0m \u001b[0;34m\u001b[0m\u001b[0m\n",
            "\u001b[0;31mFileNotFoundError\u001b[0m: [Errno 2] No such file or directory: 'default_of_credit_card_clients.xls'"
          ]
        }
      ],
      "source": [
        "import pandas as pd\n",
        "credit_data = pd.read_excel(\"default_of_credit_card_clients.xls\")\n",
        "credit_data.head()"
      ]
    },
    {
      "cell_type": "markdown",
      "source": [
        "## Variable Information\n",
        "This research employed a binary variable, default payment (Yes = 1, No = 0), as the response variable. This study reviewed the literature and used the following 23 variables as explanatory variables:\n",
        "\n",
        "X1: Amount of the given credit (NT dollar): it includes both the individual consumer credit and his/her family (supplementary) credit.\n",
        "\n",
        "X2: Gender (1 = male; 2 = female).\n",
        "\n",
        "X3: Education (1 = graduate school; 2 = university; 3 = high school; 4 = other).\n",
        "\n",
        "X4: Marital status (1 = married; 2 = single; 3 = other).\n",
        "\n",
        "X5: Age (year).\n",
        "\n",
        "X6 - X11: History of past payment. We tracked the past monthly payment records (from April to September, 2005) as follows: X6 = the repayment status in September, 2005; X7 = the repayment status in August, 2005; . . .;X11 = the repayment status in April, 2005. The measurement scale for the repayment status is: -1 = pay duly; 1 = payment delay for one month; 2 = payment delay for two months; . . .; 8 = payment delay for eight months; 9 = payment delay for nine months and above.\n",
        "\n",
        "X12-X17: Amount of bill statement (NT dollar). X12 = amount of bill statement in September, 2005; X13 = amount of bill statement in August, 2005; . . .; X17 = amount of bill statement in April, 2005.\n",
        "\n",
        "X18-X23: Amount of previous payment (NT dollar). X18 = amount paid in September, 2005; X19 = amount paid in August, 2005; . . .;X23 = amount paid in April, 2005."
      ],
      "metadata": {
        "id": "P2AR9Wx93ETo"
      }
    },
    {
      "cell_type": "markdown",
      "source": [
        "# 1. Data Cleaning"
      ],
      "metadata": {
        "id": "snFR-_wje8Aq"
      }
    },
    {
      "cell_type": "code",
      "source": [
        "# Loop will not run if data is already clean\n",
        "if credit_data.columns[1] != 'X1':\n",
        "  pass\n",
        "\n",
        "else:\n",
        "  for i in range(len(credit_data.columns)):\n",
        "      # Renaming columns based on Row 0\n",
        "      original_name = credit_data.columns[i]\n",
        "      new_name = credit_data.iloc[0, i]\n",
        "      credit_data.rename(columns={original_name: new_name}, inplace=True)\n",
        "\n",
        "# Dropping Row 0\n",
        "credit_data.drop(index=0, inplace=True)\n"
      ],
      "metadata": {
        "id": "-m85bCPncJX6"
      },
      "execution_count": null,
      "outputs": []
    },
    {
      "cell_type": "code",
      "source": [
        "# Renaming target column to 'default'\n",
        "credit_data.rename(columns={'default payment next month': 'default'},\n",
        "                   inplace=True)\n",
        "\n",
        "# Renaming 'PAY_0' to 'PAY_1'\n",
        "credit_data.rename(columns={'PAY_0': 'PAY_1'}, inplace=True)"
      ],
      "metadata": {
        "id": "lR4rSvQp7KHE"
      },
      "execution_count": null,
      "outputs": []
    },
    {
      "cell_type": "code",
      "source": [
        "credit_data.columns"
      ],
      "metadata": {
        "colab": {
          "base_uri": "https://localhost:8080/"
        },
        "id": "P0f-UkOyBb_s",
        "outputId": "4728c98a-54bf-45d0-a5c1-f916d6200721"
      },
      "execution_count": null,
      "outputs": [
        {
          "output_type": "execute_result",
          "data": {
            "text/plain": [
              "Index(['ID', 'LIMIT_BAL', 'SEX', 'EDUCATION', 'MARRIAGE', 'AGE', 'PAY_1',\n",
              "       'PAY_2', 'PAY_3', 'PAY_4', 'PAY_5', 'PAY_6', 'BILL_AMT1', 'BILL_AMT2',\n",
              "       'BILL_AMT3', 'BILL_AMT4', 'BILL_AMT5', 'BILL_AMT6', 'PAY_AMT1',\n",
              "       'PAY_AMT2', 'PAY_AMT3', 'PAY_AMT4', 'PAY_AMT5', 'PAY_AMT6', 'default'],\n",
              "      dtype='object')"
            ]
          },
          "metadata": {},
          "execution_count": 122
        }
      ]
    },
    {
      "cell_type": "code",
      "source": [
        "# Aggregating columns by taking sum and/or mean\n",
        "\n",
        "# PAY column\n",
        "credit_data['AVG_PAY'] = credit_data[['PAY_1', 'PAY_2', 'PAY_3',\n",
        "                                      'PAY_4', 'PAY_5', 'PAY_6']].mean(axis=1)\n",
        "\n",
        "# BILL_AMT column\n",
        "credit_data['TOTAL_BILL_AMT'] = credit_data[['BILL_AMT1', 'BILL_AMT2',\n",
        "                                             'BILL_AMT3', 'BILL_AMT4',\n",
        "                                             'BILL_AMT5', 'BILL_AMT6']].sum(axis=1)\n",
        "\n",
        "credit_data['AVG_BILL_AMT'] = credit_data[['BILL_AMT1', 'BILL_AMT2',\n",
        "                                           'BILL_AMT3', 'BILL_AMT4',\n",
        "                                           'BILL_AMT5', 'BILL_AMT6']].mean(axis=1)\n",
        "\n",
        "# PAY_AMT column\n",
        "credit_data['TOTAL_PAY_AMT'] = credit_data[['PAY_AMT1', 'PAY_AMT2', 'PAY_AMT3',\n",
        "                                            'PAY_AMT4', 'PAY_AMT5', 'PAY_AMT6']].sum(axis=1)\n",
        "\n",
        "credit_data['AVG_PAY_AMT'] = credit_data[['PAY_AMT1', 'PAY_AMT2', 'PAY_AMT3',\n",
        "                                          'PAY_AMT4', 'PAY_AMT5', 'PAY_AMT6']].mean(axis=1)"
      ],
      "metadata": {
        "id": "3Wtpbsfp7ROS"
      },
      "execution_count": null,
      "outputs": []
    },
    {
      "cell_type": "code",
      "source": [
        "# Dropping unnecessary or aggregated columns\n",
        "\n",
        "# ID column\n",
        "credit_data.drop(columns='ID', inplace=True)\n",
        "\n",
        "# PAY 1-6, BILL_AMT 1-6, PAY_AMT 1-6\n",
        "for i in range(1,7):\n",
        "  n = str(i)\n",
        "  credit_data.drop(columns=['PAY_' + n, 'BILL_AMT' + n, 'PAY_AMT' + n],\n",
        "                   inplace=True)"
      ],
      "metadata": {
        "id": "x7gF6Pfp-DfN"
      },
      "execution_count": null,
      "outputs": []
    },
    {
      "cell_type": "code",
      "source": [
        "from sklearn.preprocessing import StandardScaler\n",
        "\n",
        "# Standardizing features\n",
        "scaler = StandardScaler()\n",
        "features = credit_data.drop(columns='default')\n",
        "standard_features = pd.DataFrame(scaler.fit_transform(features),\n",
        "                                 columns=features.columns,\n",
        "                                 index=features.index)\n",
        "\n",
        "# Storing un-normalized data\n",
        "credit_data_original = credit_data\n",
        "\n",
        "# Re-incoporating features back into data\n",
        "credit_data = pd.concat([standard_features, credit_data['default']], axis=1)"
      ],
      "metadata": {
        "id": "6h3V_rijB9k7"
      },
      "execution_count": null,
      "outputs": []
    },
    {
      "cell_type": "markdown",
      "source": [
        "# Exploring the Data"
      ],
      "metadata": {
        "id": "MgMVmkFM3HQ2"
      }
    },
    {
      "cell_type": "code",
      "source": [
        "credit_data.info()"
      ],
      "metadata": {
        "colab": {
          "base_uri": "https://localhost:8080/"
        },
        "id": "lcsxVkAFyOC4",
        "outputId": "a61ba44f-de1b-4c21-bfd7-3052f38f3e5d"
      },
      "execution_count": null,
      "outputs": [
        {
          "output_type": "stream",
          "name": "stdout",
          "text": [
            "<class 'pandas.core.frame.DataFrame'>\n",
            "RangeIndex: 30000 entries, 1 to 30000\n",
            "Data columns (total 11 columns):\n",
            " #   Column          Non-Null Count  Dtype  \n",
            "---  ------          --------------  -----  \n",
            " 0   LIMIT_BAL       30000 non-null  float64\n",
            " 1   SEX             30000 non-null  float64\n",
            " 2   EDUCATION       30000 non-null  float64\n",
            " 3   MARRIAGE        30000 non-null  float64\n",
            " 4   AGE             30000 non-null  float64\n",
            " 5   AVG_PAY         30000 non-null  float64\n",
            " 6   TOTAL_BILL_AMT  30000 non-null  float64\n",
            " 7   AVG_BILL_AMT    30000 non-null  float64\n",
            " 8   TOTAL_PAY_AMT   30000 non-null  float64\n",
            " 9   AVG_PAY_AMT     30000 non-null  float64\n",
            " 10  default         30000 non-null  object \n",
            "dtypes: float64(10), object(1)\n",
            "memory usage: 2.5+ MB\n"
          ]
        }
      ]
    },
    {
      "cell_type": "code",
      "source": [
        "credit_data.head()"
      ],
      "metadata": {
        "colab": {
          "base_uri": "https://localhost:8080/",
          "height": 206
        },
        "id": "L_OLUpCNW9XI",
        "outputId": "e5e24e8b-0402-4607-f981-188778c75f61"
      },
      "execution_count": null,
      "outputs": [
        {
          "output_type": "execute_result",
          "data": {
            "text/plain": [
              "   LIMIT_BAL       SEX  EDUCATION  MARRIAGE       AGE   AVG_PAY  \\\n",
              "1  -1.136720  0.810161   0.185828 -1.057295 -1.246020 -0.153635   \n",
              "2  -0.365981  0.810161   0.185828  0.858557 -1.029047  0.694835   \n",
              "3  -0.597202  0.810161   0.185828  0.858557 -0.161156  0.185753   \n",
              "4  -0.905498  0.810161   0.185828 -1.057295  0.164303  0.185753   \n",
              "5  -0.905498 -1.234323   0.185828 -1.057295  2.334029 -0.153635   \n",
              "\n",
              "   TOTAL_BILL_AMT  AVG_BILL_AMT  TOTAL_PAY_AMT  AVG_PAY_AMT default  \n",
              "1       -0.690692     -0.690692      -0.509027    -0.509027       1  \n",
              "2       -0.665997     -0.665997      -0.438153    -0.438153       1  \n",
              "3       -0.443170     -0.443170      -0.339216    -0.339216       0  \n",
              "4       -0.101507     -0.101507      -0.382454    -0.382454       0  \n",
              "5       -0.422920     -0.422920       0.450421     0.450421       0  "
            ],
            "text/html": [
              "\n",
              "  <div id=\"df-da755090-e025-4696-990f-f3167df47e29\" class=\"colab-df-container\">\n",
              "    <div>\n",
              "<style scoped>\n",
              "    .dataframe tbody tr th:only-of-type {\n",
              "        vertical-align: middle;\n",
              "    }\n",
              "\n",
              "    .dataframe tbody tr th {\n",
              "        vertical-align: top;\n",
              "    }\n",
              "\n",
              "    .dataframe thead th {\n",
              "        text-align: right;\n",
              "    }\n",
              "</style>\n",
              "<table border=\"1\" class=\"dataframe\">\n",
              "  <thead>\n",
              "    <tr style=\"text-align: right;\">\n",
              "      <th></th>\n",
              "      <th>LIMIT_BAL</th>\n",
              "      <th>SEX</th>\n",
              "      <th>EDUCATION</th>\n",
              "      <th>MARRIAGE</th>\n",
              "      <th>AGE</th>\n",
              "      <th>AVG_PAY</th>\n",
              "      <th>TOTAL_BILL_AMT</th>\n",
              "      <th>AVG_BILL_AMT</th>\n",
              "      <th>TOTAL_PAY_AMT</th>\n",
              "      <th>AVG_PAY_AMT</th>\n",
              "      <th>default</th>\n",
              "    </tr>\n",
              "  </thead>\n",
              "  <tbody>\n",
              "    <tr>\n",
              "      <th>1</th>\n",
              "      <td>-1.136720</td>\n",
              "      <td>0.810161</td>\n",
              "      <td>0.185828</td>\n",
              "      <td>-1.057295</td>\n",
              "      <td>-1.246020</td>\n",
              "      <td>-0.153635</td>\n",
              "      <td>-0.690692</td>\n",
              "      <td>-0.690692</td>\n",
              "      <td>-0.509027</td>\n",
              "      <td>-0.509027</td>\n",
              "      <td>1</td>\n",
              "    </tr>\n",
              "    <tr>\n",
              "      <th>2</th>\n",
              "      <td>-0.365981</td>\n",
              "      <td>0.810161</td>\n",
              "      <td>0.185828</td>\n",
              "      <td>0.858557</td>\n",
              "      <td>-1.029047</td>\n",
              "      <td>0.694835</td>\n",
              "      <td>-0.665997</td>\n",
              "      <td>-0.665997</td>\n",
              "      <td>-0.438153</td>\n",
              "      <td>-0.438153</td>\n",
              "      <td>1</td>\n",
              "    </tr>\n",
              "    <tr>\n",
              "      <th>3</th>\n",
              "      <td>-0.597202</td>\n",
              "      <td>0.810161</td>\n",
              "      <td>0.185828</td>\n",
              "      <td>0.858557</td>\n",
              "      <td>-0.161156</td>\n",
              "      <td>0.185753</td>\n",
              "      <td>-0.443170</td>\n",
              "      <td>-0.443170</td>\n",
              "      <td>-0.339216</td>\n",
              "      <td>-0.339216</td>\n",
              "      <td>0</td>\n",
              "    </tr>\n",
              "    <tr>\n",
              "      <th>4</th>\n",
              "      <td>-0.905498</td>\n",
              "      <td>0.810161</td>\n",
              "      <td>0.185828</td>\n",
              "      <td>-1.057295</td>\n",
              "      <td>0.164303</td>\n",
              "      <td>0.185753</td>\n",
              "      <td>-0.101507</td>\n",
              "      <td>-0.101507</td>\n",
              "      <td>-0.382454</td>\n",
              "      <td>-0.382454</td>\n",
              "      <td>0</td>\n",
              "    </tr>\n",
              "    <tr>\n",
              "      <th>5</th>\n",
              "      <td>-0.905498</td>\n",
              "      <td>-1.234323</td>\n",
              "      <td>0.185828</td>\n",
              "      <td>-1.057295</td>\n",
              "      <td>2.334029</td>\n",
              "      <td>-0.153635</td>\n",
              "      <td>-0.422920</td>\n",
              "      <td>-0.422920</td>\n",
              "      <td>0.450421</td>\n",
              "      <td>0.450421</td>\n",
              "      <td>0</td>\n",
              "    </tr>\n",
              "  </tbody>\n",
              "</table>\n",
              "</div>\n",
              "    <div class=\"colab-df-buttons\">\n",
              "\n",
              "  <div class=\"colab-df-container\">\n",
              "    <button class=\"colab-df-convert\" onclick=\"convertToInteractive('df-da755090-e025-4696-990f-f3167df47e29')\"\n",
              "            title=\"Convert this dataframe to an interactive table.\"\n",
              "            style=\"display:none;\">\n",
              "\n",
              "  <svg xmlns=\"http://www.w3.org/2000/svg\" height=\"24px\" viewBox=\"0 -960 960 960\">\n",
              "    <path d=\"M120-120v-720h720v720H120Zm60-500h600v-160H180v160Zm220 220h160v-160H400v160Zm0 220h160v-160H400v160ZM180-400h160v-160H180v160Zm440 0h160v-160H620v160ZM180-180h160v-160H180v160Zm440 0h160v-160H620v160Z\"/>\n",
              "  </svg>\n",
              "    </button>\n",
              "\n",
              "  <style>\n",
              "    .colab-df-container {\n",
              "      display:flex;\n",
              "      gap: 12px;\n",
              "    }\n",
              "\n",
              "    .colab-df-convert {\n",
              "      background-color: #E8F0FE;\n",
              "      border: none;\n",
              "      border-radius: 50%;\n",
              "      cursor: pointer;\n",
              "      display: none;\n",
              "      fill: #1967D2;\n",
              "      height: 32px;\n",
              "      padding: 0 0 0 0;\n",
              "      width: 32px;\n",
              "    }\n",
              "\n",
              "    .colab-df-convert:hover {\n",
              "      background-color: #E2EBFA;\n",
              "      box-shadow: 0px 1px 2px rgba(60, 64, 67, 0.3), 0px 1px 3px 1px rgba(60, 64, 67, 0.15);\n",
              "      fill: #174EA6;\n",
              "    }\n",
              "\n",
              "    .colab-df-buttons div {\n",
              "      margin-bottom: 4px;\n",
              "    }\n",
              "\n",
              "    [theme=dark] .colab-df-convert {\n",
              "      background-color: #3B4455;\n",
              "      fill: #D2E3FC;\n",
              "    }\n",
              "\n",
              "    [theme=dark] .colab-df-convert:hover {\n",
              "      background-color: #434B5C;\n",
              "      box-shadow: 0px 1px 3px 1px rgba(0, 0, 0, 0.15);\n",
              "      filter: drop-shadow(0px 1px 2px rgba(0, 0, 0, 0.3));\n",
              "      fill: #FFFFFF;\n",
              "    }\n",
              "  </style>\n",
              "\n",
              "    <script>\n",
              "      const buttonEl =\n",
              "        document.querySelector('#df-da755090-e025-4696-990f-f3167df47e29 button.colab-df-convert');\n",
              "      buttonEl.style.display =\n",
              "        google.colab.kernel.accessAllowed ? 'block' : 'none';\n",
              "\n",
              "      async function convertToInteractive(key) {\n",
              "        const element = document.querySelector('#df-da755090-e025-4696-990f-f3167df47e29');\n",
              "        const dataTable =\n",
              "          await google.colab.kernel.invokeFunction('convertToInteractive',\n",
              "                                                    [key], {});\n",
              "        if (!dataTable) return;\n",
              "\n",
              "        const docLinkHtml = 'Like what you see? Visit the ' +\n",
              "          '<a target=\"_blank\" href=https://colab.research.google.com/notebooks/data_table.ipynb>data table notebook</a>'\n",
              "          + ' to learn more about interactive tables.';\n",
              "        element.innerHTML = '';\n",
              "        dataTable['output_type'] = 'display_data';\n",
              "        await google.colab.output.renderOutput(dataTable, element);\n",
              "        const docLink = document.createElement('div');\n",
              "        docLink.innerHTML = docLinkHtml;\n",
              "        element.appendChild(docLink);\n",
              "      }\n",
              "    </script>\n",
              "  </div>\n",
              "\n",
              "\n",
              "<div id=\"df-9465af24-2c5f-4ec8-bcc7-a2cbc5409101\">\n",
              "  <button class=\"colab-df-quickchart\" onclick=\"quickchart('df-9465af24-2c5f-4ec8-bcc7-a2cbc5409101')\"\n",
              "            title=\"Suggest charts\"\n",
              "            style=\"display:none;\">\n",
              "\n",
              "<svg xmlns=\"http://www.w3.org/2000/svg\" height=\"24px\"viewBox=\"0 0 24 24\"\n",
              "     width=\"24px\">\n",
              "    <g>\n",
              "        <path d=\"M19 3H5c-1.1 0-2 .9-2 2v14c0 1.1.9 2 2 2h14c1.1 0 2-.9 2-2V5c0-1.1-.9-2-2-2zM9 17H7v-7h2v7zm4 0h-2V7h2v10zm4 0h-2v-4h2v4z\"/>\n",
              "    </g>\n",
              "</svg>\n",
              "  </button>\n",
              "\n",
              "<style>\n",
              "  .colab-df-quickchart {\n",
              "      --bg-color: #E8F0FE;\n",
              "      --fill-color: #1967D2;\n",
              "      --hover-bg-color: #E2EBFA;\n",
              "      --hover-fill-color: #174EA6;\n",
              "      --disabled-fill-color: #AAA;\n",
              "      --disabled-bg-color: #DDD;\n",
              "  }\n",
              "\n",
              "  [theme=dark] .colab-df-quickchart {\n",
              "      --bg-color: #3B4455;\n",
              "      --fill-color: #D2E3FC;\n",
              "      --hover-bg-color: #434B5C;\n",
              "      --hover-fill-color: #FFFFFF;\n",
              "      --disabled-bg-color: #3B4455;\n",
              "      --disabled-fill-color: #666;\n",
              "  }\n",
              "\n",
              "  .colab-df-quickchart {\n",
              "    background-color: var(--bg-color);\n",
              "    border: none;\n",
              "    border-radius: 50%;\n",
              "    cursor: pointer;\n",
              "    display: none;\n",
              "    fill: var(--fill-color);\n",
              "    height: 32px;\n",
              "    padding: 0;\n",
              "    width: 32px;\n",
              "  }\n",
              "\n",
              "  .colab-df-quickchart:hover {\n",
              "    background-color: var(--hover-bg-color);\n",
              "    box-shadow: 0 1px 2px rgba(60, 64, 67, 0.3), 0 1px 3px 1px rgba(60, 64, 67, 0.15);\n",
              "    fill: var(--button-hover-fill-color);\n",
              "  }\n",
              "\n",
              "  .colab-df-quickchart-complete:disabled,\n",
              "  .colab-df-quickchart-complete:disabled:hover {\n",
              "    background-color: var(--disabled-bg-color);\n",
              "    fill: var(--disabled-fill-color);\n",
              "    box-shadow: none;\n",
              "  }\n",
              "\n",
              "  .colab-df-spinner {\n",
              "    border: 2px solid var(--fill-color);\n",
              "    border-color: transparent;\n",
              "    border-bottom-color: var(--fill-color);\n",
              "    animation:\n",
              "      spin 1s steps(1) infinite;\n",
              "  }\n",
              "\n",
              "  @keyframes spin {\n",
              "    0% {\n",
              "      border-color: transparent;\n",
              "      border-bottom-color: var(--fill-color);\n",
              "      border-left-color: var(--fill-color);\n",
              "    }\n",
              "    20% {\n",
              "      border-color: transparent;\n",
              "      border-left-color: var(--fill-color);\n",
              "      border-top-color: var(--fill-color);\n",
              "    }\n",
              "    30% {\n",
              "      border-color: transparent;\n",
              "      border-left-color: var(--fill-color);\n",
              "      border-top-color: var(--fill-color);\n",
              "      border-right-color: var(--fill-color);\n",
              "    }\n",
              "    40% {\n",
              "      border-color: transparent;\n",
              "      border-right-color: var(--fill-color);\n",
              "      border-top-color: var(--fill-color);\n",
              "    }\n",
              "    60% {\n",
              "      border-color: transparent;\n",
              "      border-right-color: var(--fill-color);\n",
              "    }\n",
              "    80% {\n",
              "      border-color: transparent;\n",
              "      border-right-color: var(--fill-color);\n",
              "      border-bottom-color: var(--fill-color);\n",
              "    }\n",
              "    90% {\n",
              "      border-color: transparent;\n",
              "      border-bottom-color: var(--fill-color);\n",
              "    }\n",
              "  }\n",
              "</style>\n",
              "\n",
              "  <script>\n",
              "    async function quickchart(key) {\n",
              "      const quickchartButtonEl =\n",
              "        document.querySelector('#' + key + ' button');\n",
              "      quickchartButtonEl.disabled = true;  // To prevent multiple clicks.\n",
              "      quickchartButtonEl.classList.add('colab-df-spinner');\n",
              "      try {\n",
              "        const charts = await google.colab.kernel.invokeFunction(\n",
              "            'suggestCharts', [key], {});\n",
              "      } catch (error) {\n",
              "        console.error('Error during call to suggestCharts:', error);\n",
              "      }\n",
              "      quickchartButtonEl.classList.remove('colab-df-spinner');\n",
              "      quickchartButtonEl.classList.add('colab-df-quickchart-complete');\n",
              "    }\n",
              "    (() => {\n",
              "      let quickchartButtonEl =\n",
              "        document.querySelector('#df-9465af24-2c5f-4ec8-bcc7-a2cbc5409101 button');\n",
              "      quickchartButtonEl.style.display =\n",
              "        google.colab.kernel.accessAllowed ? 'block' : 'none';\n",
              "    })();\n",
              "  </script>\n",
              "</div>\n",
              "\n",
              "    </div>\n",
              "  </div>\n"
            ],
            "application/vnd.google.colaboratory.intrinsic+json": {
              "type": "dataframe",
              "variable_name": "credit_data",
              "repr_error": "0"
            }
          },
          "metadata": {},
          "execution_count": 127
        }
      ]
    },
    {
      "cell_type": "code",
      "source": [
        "credit_data['default'].value_counts()"
      ],
      "metadata": {
        "colab": {
          "base_uri": "https://localhost:8080/",
          "height": 178
        },
        "id": "ysXc5nGyW3sK",
        "outputId": "ae1f4cb4-3e93-4165-910d-41072aa66542"
      },
      "execution_count": null,
      "outputs": [
        {
          "output_type": "execute_result",
          "data": {
            "text/plain": [
              "default\n",
              "0    23364\n",
              "1     6636\n",
              "Name: count, dtype: int64"
            ],
            "text/html": [
              "<div>\n",
              "<style scoped>\n",
              "    .dataframe tbody tr th:only-of-type {\n",
              "        vertical-align: middle;\n",
              "    }\n",
              "\n",
              "    .dataframe tbody tr th {\n",
              "        vertical-align: top;\n",
              "    }\n",
              "\n",
              "    .dataframe thead th {\n",
              "        text-align: right;\n",
              "    }\n",
              "</style>\n",
              "<table border=\"1\" class=\"dataframe\">\n",
              "  <thead>\n",
              "    <tr style=\"text-align: right;\">\n",
              "      <th></th>\n",
              "      <th>count</th>\n",
              "    </tr>\n",
              "    <tr>\n",
              "      <th>default</th>\n",
              "      <th></th>\n",
              "    </tr>\n",
              "  </thead>\n",
              "  <tbody>\n",
              "    <tr>\n",
              "      <th>0</th>\n",
              "      <td>23364</td>\n",
              "    </tr>\n",
              "    <tr>\n",
              "      <th>1</th>\n",
              "      <td>6636</td>\n",
              "    </tr>\n",
              "  </tbody>\n",
              "</table>\n",
              "</div><br><label><b>dtype:</b> int64</label>"
            ]
          },
          "metadata": {},
          "execution_count": 128
        }
      ]
    },
    {
      "cell_type": "code",
      "source": [
        "import seaborn as sns\n",
        "import matplotlib.pyplot as plt"
      ],
      "metadata": {
        "id": "biuwY7xQ3aGf"
      },
      "execution_count": null,
      "outputs": []
    },
    {
      "cell_type": "code",
      "source": [
        "# Correlation heatmap\n",
        "plt.figure(figsize=(9,9))\n",
        "plt.title(\"Correlation Heatmap\")\n",
        "sns.heatmap(credit_data.corr(), vmin=-1, vmax=1, cmap=\"coolwarm\", annot=True)"
      ],
      "metadata": {
        "colab": {
          "base_uri": "https://localhost:8080/",
          "height": 897
        },
        "id": "6GQUp75E4h4T",
        "outputId": "8dd6c463-daef-4bf3-b446-86f628a3b445"
      },
      "execution_count": null,
      "outputs": [
        {
          "output_type": "execute_result",
          "data": {
            "text/plain": [
              "<Axes: title={'center': 'Correlation Heatmap'}>"
            ]
          },
          "metadata": {},
          "execution_count": 170
        },
        {
          "output_type": "display_data",
          "data": {
            "text/plain": [
              "<Figure size 900x900 with 2 Axes>"
            ],
            "image/png": "[encoded data removed]"
          },
          "metadata": {}
        }
      ]
    },
    {
      "cell_type": "code",
      "source": [
        "import numpy as np\n",
        "unique, counts = np.unique(credit_data['default'], return_counts=True)\n",
        "plt.title('Target Distribution')\n",
        "plt.pie(counts, labels=['Class 0', 'Class 1'], autopct='%.0f%%')"
      ],
      "metadata": {
        "id": "xhW5eEPE6UDa",
        "colab": {
          "base_uri": "https://localhost:8080/",
          "height": 535
        },
        "outputId": "ee57fdcb-ff0f-43dd-b72f-1e49f0000865"
      },
      "execution_count": null,
      "outputs": [
        {
          "output_type": "execute_result",
          "data": {
            "text/plain": [
              "([<matplotlib.patches.Wedge at 0x7d20d62b1e10>,\n",
              "  <matplotlib.patches.Wedge at 0x7d217ba6c580>],\n",
              " [Text(-0.8449152390547129, 0.704356613380692, 'Class 0'),\n",
              "  Text(0.844915272028025, -0.7043565738273541, 'Class 1')],\n",
              " [Text(-0.460862857666207, 0.38419451638946833, '78%'),\n",
              "  Text(0.4608628756516499, -0.38419449481492035, '22%')])"
            ]
          },
          "metadata": {},
          "execution_count": 171
        },
        {
          "output_type": "display_data",
          "data": {
            "text/plain": [
              "<Figure size 640x480 with 1 Axes>"
            ],
            "image/png": "[encoded data removed]"
          },
          "metadata": {}
        }
      ]
    },
    {
      "cell_type": "markdown",
      "source": [
        "# 2. Preparing the Data"
      ],
      "metadata": {
        "id": "JB6EJzupewAU"
      }
    },
    {
      "cell_type": "code",
      "source": [
        "import torch\n",
        "from torch import nn"
      ],
      "metadata": {
        "id": "pRWlH9sliahJ"
      },
      "execution_count": null,
      "outputs": []
    },
    {
      "cell_type": "code",
      "source": [
        "# Device agnostic code\n",
        "if torch.cuda.is_available():\n",
        "  device = \"cuda\"\n",
        "else:\n",
        "  device = \"cpu\"\n",
        "\n",
        "print(f\"Current device : {device}\")"
      ],
      "metadata": {
        "colab": {
          "base_uri": "https://localhost:8080/"
        },
        "id": "JCYdpzNliIuR",
        "outputId": "88040d90-b05d-4f7b-98a9-75437f9bba1d"
      },
      "execution_count": null,
      "outputs": [
        {
          "output_type": "stream",
          "name": "stdout",
          "text": [
            "Current device : cpu\n"
          ]
        }
      ]
    },
    {
      "cell_type": "code",
      "source": [
        "# Splitting data into target/features\n",
        "X = credit_data.drop(columns='default', inplace=False).astype(int)\n",
        "y = credit_data['default'].astype(int)\n",
        "\n",
        "print(f\"Number of features: {len(X.columns)}\\nTarget name: '{y.name}'\")"
      ],
      "metadata": {
        "colab": {
          "base_uri": "https://localhost:8080/"
        },
        "id": "3yQ6kMSzfRTz",
        "outputId": "835a8aa3-874b-4416-9e1f-d2955ec10234"
      },
      "execution_count": null,
      "outputs": [
        {
          "output_type": "stream",
          "name": "stdout",
          "text": [
            "Number of features: 10\n",
            "Target name: 'default'\n"
          ]
        }
      ]
    },
    {
      "cell_type": "code",
      "source": [
        "# Turning data into tensors and setting to current device\n",
        "X = torch.tensor(X.values).to(device)\n",
        "y = torch.tensor(y.values).to(device)\n",
        "\n",
        "print(f\"X type: {type(X)}, y type: {type(y)}\\\n",
        "      \\nX device: {X.device}, y device: {y.device}\")"
      ],
      "metadata": {
        "colab": {
          "base_uri": "https://localhost:8080/"
        },
        "id": "iuZTUPkEkQFA",
        "outputId": "bdedda32-ffa7-4c52-baeb-ed14a389fdd7"
      },
      "execution_count": null,
      "outputs": [
        {
          "output_type": "stream",
          "name": "stdout",
          "text": [
            "X type: <class 'torch.Tensor'>, y type: <class 'torch.Tensor'>      \n",
            "X device: cpu, y device: cpu\n"
          ]
        }
      ]
    },
    {
      "cell_type": "code",
      "source": [
        "# Changing data types to float\n",
        "X = X.to(torch.float)\n",
        "y = y.to(torch.float)\n",
        "\n",
        "print(f\"X data type: {X.dtype}\\ny data type: {y.dtype}\")"
      ],
      "metadata": {
        "colab": {
          "base_uri": "https://localhost:8080/"
        },
        "id": "KGuxFIa_4zYT",
        "outputId": "e909de17-1a07-4a08-a3c3-0124f18a63ba"
      },
      "execution_count": null,
      "outputs": [
        {
          "output_type": "stream",
          "name": "stdout",
          "text": [
            "X data type: torch.float32\n",
            "y data type: torch.float32\n"
          ]
        }
      ]
    },
    {
      "cell_type": "code",
      "source": [
        "from sklearn.model_selection import train_test_split\n",
        "\n",
        "# Splitting data into testing/training\n",
        "seed = 123\n",
        "X_train, X_test, y_train, y_test = train_test_split(X, y,\n",
        "                                                    test_size=0.2,\n",
        "                                                    random_state=seed)\n",
        "\n",
        "\n",
        "print(f\"Training Size: {len(X_train)}, Testing Size: {len(X_test)}\\\n",
        "      \\nDesired Testing Size: {int(len(X)*0.2)}\")"
      ],
      "metadata": {
        "colab": {
          "base_uri": "https://localhost:8080/"
        },
        "id": "47BMUs3Eevgs",
        "outputId": "d003f708-c31a-47b8-a229-3247fa87c216"
      },
      "execution_count": null,
      "outputs": [
        {
          "output_type": "stream",
          "name": "stdout",
          "text": [
            "Training Size: 24000, Testing Size: 6000      \n",
            "Desired Testing Size: 6000\n"
          ]
        }
      ]
    },
    {
      "cell_type": "markdown",
      "source": [
        "# 3. Building Model"
      ],
      "metadata": {
        "id": "iM4E68gfo2Fi"
      }
    },
    {
      "cell_type": "code",
      "source": [
        "torch.manual_seed(seed)\n",
        "\n",
        "# Creating model class\n",
        "class BinaryClassificationModelv1(nn.Module):\n",
        "  def __init__(self, in_features, out_features, hidden_units):\n",
        "    super().__init__()\n",
        "    self.layer_stack = nn.Sequential(\n",
        "        nn.Linear(in_features, hidden_units),\n",
        "        nn.Linear(hidden_units, hidden_units),\n",
        "        nn.ReLU(),\n",
        "        nn.Linear(hidden_units, out_features),\n",
        "    )\n",
        "\n",
        "  def forward(self, x):\n",
        "    return self.layer_stack(x)"
      ],
      "metadata": {
        "id": "h8sCcWI1p4at"
      },
      "execution_count": null,
      "outputs": []
    },
    {
      "cell_type": "code",
      "source": [
        "torch.manual_seed(seed)\n",
        "\n",
        "# Creating an instance of the model\n",
        "CreditModelv1 = BinaryClassificationModelv1(in_features=X.shape[1],\n",
        "                                        out_features=1,\n",
        "                                        hidden_units=16).to(device)\n",
        "\n",
        "CreditModelv1"
      ],
      "metadata": {
        "colab": {
          "base_uri": "https://localhost:8080/"
        },
        "id": "Cs3vjhkOqtNu",
        "outputId": "05570518-4635-426a-fc4e-4cb20b5b2517"
      },
      "execution_count": null,
      "outputs": [
        {
          "output_type": "execute_result",
          "data": {
            "text/plain": [
              "BinaryClassificationModelv1(\n",
              "  (layer_stack): Sequential(\n",
              "    (0): Linear(in_features=10, out_features=16, bias=True)\n",
              "    (1): Linear(in_features=16, out_features=16, bias=True)\n",
              "    (2): ReLU()\n",
              "    (3): Linear(in_features=16, out_features=1, bias=True)\n",
              "  )\n",
              ")"
            ]
          },
          "metadata": {},
          "execution_count": 139
        }
      ]
    },
    {
      "cell_type": "code",
      "source": [
        "# Create loss/optimizer functions\n",
        "learn_rate = 0.01\n",
        "loss_fn = nn.BCEWithLogitsLoss(pos_weight=torch.tensor(2))\n",
        "optimizer = torch.optim.Adam(params=CreditModelv1.parameters(),\n",
        "                            lr=learn_rate, weight_decay=0.00001)"
      ],
      "metadata": {
        "id": "FBvcnaxXoxA4"
      },
      "execution_count": null,
      "outputs": []
    },
    {
      "cell_type": "markdown",
      "source": [],
      "metadata": {
        "id": "GeTaZWNzB2Qo"
      }
    },
    {
      "cell_type": "code",
      "source": [
        "# Create accuracy function\n",
        "def accuracy_fn(y_true, y_pred):\n",
        "  correct = torch.eq(y_true, y_pred).sum().item()\n",
        "  acc = correct/len(y_pred) * 100\n",
        "  return acc"
      ],
      "metadata": {
        "id": "XSGFHwch2ldl"
      },
      "execution_count": null,
      "outputs": []
    },
    {
      "cell_type": "markdown",
      "source": [
        "# 4. Training/Testing Loop"
      ],
      "metadata": {
        "id": "fmCoz-6f2WKn"
      }
    },
    {
      "cell_type": "code",
      "source": [
        "torch.manual_seed(seed)\n",
        "\n",
        "epochs = 127\n",
        "\n",
        "epoch_count = []\n",
        "train_loss_count = []\n",
        "test_loss_count = []\n",
        "\n",
        "for epoch in range(epochs):\n",
        "  # TRAINING !!!\n",
        "  CreditModelv1.train()\n",
        "  epoch_count.append(epoch)\n",
        "\n",
        "  # 1. Forward step\n",
        "  y_logits = CreditModelv1(X_train).squeeze()\n",
        "  y_pred = torch.round(torch.sigmoid(y_logits))\n",
        "\n",
        "  # 2. Calculate the loss/accuracy\n",
        "  loss = loss_fn(y_logits, y_train)\n",
        "  train_loss_count.append(loss.item())\n",
        "  acc = accuracy_fn(y_train, y_pred)\n",
        "\n",
        "  # 3. Optimizer zero grad\n",
        "  optimizer.zero_grad()\n",
        "\n",
        "  # 4. Loss backwards\n",
        "  loss.backward()\n",
        "\n",
        "  # 5. Optimizer step\n",
        "  optimizer.step()\n",
        "\n",
        "  # TESTING !!!\n",
        "  CreditModelv1.eval()\n",
        "  with torch.inference_mode():\n",
        "\n",
        "    # 1. Forward pass\n",
        "    test_logits = CreditModelv1(X_test).squeeze()\n",
        "    test_pred = torch.round(torch.sigmoid(test_logits))\n",
        "\n",
        "    # 2. Calculate the loss\n",
        "    test_loss = loss_fn(test_logits, y_test)\n",
        "    test_loss_count.append(test_loss.item())\n",
        "    test_acc = accuracy_fn(y_test, test_pred)\n",
        "\n",
        "  print(f\"Epoch: {epoch + 1}, Loss: {loss:.4f}, Accuracy: {acc:.2f}%,\\\n",
        " Test Loss: {test_loss:.4f}, Test Accuracy:{test_acc:.2f}%\")"
      ],
      "metadata": {
        "colab": {
          "base_uri": "https://localhost:8080/"
        },
        "id": "zWsRNsTs2aCp",
        "outputId": "e14003d4-da9c-4e3d-c038-0f5d5a938a8f",
        "collapsed": true
      },
      "execution_count": null,
      "outputs": [
        {
          "output_type": "stream",
          "name": "stdout",
          "text": [
            "Epoch: 1, Loss: 0.9004, Accuracy: 22.23%, Test Loss: 0.8741, Test Accuracy:24.98%\n",
            "Epoch: 2, Loss: 0.8761, Accuracy: 25.10%, Test Loss: 0.8516, Test Accuracy:33.57%\n",
            "Epoch: 3, Loss: 0.8541, Accuracy: 33.95%, Test Loss: 0.8315, Test Accuracy:56.13%\n",
            "Epoch: 4, Loss: 0.8346, Accuracy: 56.94%, Test Loss: 0.8138, Test Accuracy:71.10%\n",
            "Epoch: 5, Loss: 0.8176, Accuracy: 70.65%, Test Loss: 0.7987, Test Accuracy:77.30%\n",
            "Epoch: 6, Loss: 0.8033, Accuracy: 77.50%, Test Loss: 0.7869, Test Accuracy:77.65%\n",
            "Epoch: 7, Loss: 0.7923, Accuracy: 77.80%, Test Loss: 0.7787, Test Accuracy:78.65%\n",
            "Epoch: 8, Loss: 0.7850, Accuracy: 78.25%, Test Loss: 0.7741, Test Accuracy:78.67%\n",
            "Epoch: 9, Loss: 0.7812, Accuracy: 78.27%, Test Loss: 0.7721, Test Accuracy:78.78%\n",
            "Epoch: 10, Loss: 0.7799, Accuracy: 78.32%, Test Loss: 0.7705, Test Accuracy:78.97%\n",
            "Epoch: 11, Loss: 0.7788, Accuracy: 78.47%, Test Loss: 0.7676, Test Accuracy:79.12%\n",
            "Epoch: 12, Loss: 0.7763, Accuracy: 78.57%, Test Loss: 0.7631, Test Accuracy:79.28%\n",
            "Epoch: 13, Loss: 0.7719, Accuracy: 78.85%, Test Loss: 0.7577, Test Accuracy:79.52%\n",
            "Epoch: 14, Loss: 0.7662, Accuracy: 79.29%, Test Loss: 0.7525, Test Accuracy:79.90%\n",
            "Epoch: 15, Loss: 0.7607, Accuracy: 79.46%, Test Loss: 0.7481, Test Accuracy:79.98%\n",
            "Epoch: 16, Loss: 0.7560, Accuracy: 79.72%, Test Loss: 0.7450, Test Accuracy:79.97%\n",
            "Epoch: 17, Loss: 0.7527, Accuracy: 79.90%, Test Loss: 0.7432, Test Accuracy:79.90%\n",
            "Epoch: 18, Loss: 0.7507, Accuracy: 80.10%, Test Loss: 0.7421, Test Accuracy:80.05%\n",
            "Epoch: 19, Loss: 0.7495, Accuracy: 80.20%, Test Loss: 0.7413, Test Accuracy:80.15%\n",
            "Epoch: 20, Loss: 0.7487, Accuracy: 80.33%, Test Loss: 0.7401, Test Accuracy:80.17%\n",
            "Epoch: 21, Loss: 0.7475, Accuracy: 80.28%, Test Loss: 0.7385, Test Accuracy:80.02%\n",
            "Epoch: 22, Loss: 0.7459, Accuracy: 80.29%, Test Loss: 0.7363, Test Accuracy:79.57%\n",
            "Epoch: 23, Loss: 0.7438, Accuracy: 79.80%, Test Loss: 0.7338, Test Accuracy:79.37%\n",
            "Epoch: 24, Loss: 0.7414, Accuracy: 79.75%, Test Loss: 0.7313, Test Accuracy:79.33%\n",
            "Epoch: 25, Loss: 0.7391, Accuracy: 79.73%, Test Loss: 0.7291, Test Accuracy:79.40%\n",
            "Epoch: 26, Loss: 0.7370, Accuracy: 79.78%, Test Loss: 0.7274, Test Accuracy:79.50%\n",
            "Epoch: 27, Loss: 0.7355, Accuracy: 79.83%, Test Loss: 0.7263, Test Accuracy:79.43%\n",
            "Epoch: 28, Loss: 0.7345, Accuracy: 79.79%, Test Loss: 0.7258, Test Accuracy:79.75%\n",
            "Epoch: 29, Loss: 0.7339, Accuracy: 80.25%, Test Loss: 0.7255, Test Accuracy:79.75%\n",
            "Epoch: 30, Loss: 0.7335, Accuracy: 80.25%, Test Loss: 0.7253, Test Accuracy:79.82%\n",
            "Epoch: 31, Loss: 0.7331, Accuracy: 80.32%, Test Loss: 0.7251, Test Accuracy:79.85%\n",
            "Epoch: 32, Loss: 0.7325, Accuracy: 80.38%, Test Loss: 0.7248, Test Accuracy:79.90%\n",
            "Epoch: 33, Loss: 0.7317, Accuracy: 80.39%, Test Loss: 0.7244, Test Accuracy:79.97%\n",
            "Epoch: 34, Loss: 0.7307, Accuracy: 80.43%, Test Loss: 0.7239, Test Accuracy:79.97%\n",
            "Epoch: 35, Loss: 0.7298, Accuracy: 80.43%, Test Loss: 0.7236, Test Accuracy:80.02%\n",
            "Epoch: 36, Loss: 0.7289, Accuracy: 80.52%, Test Loss: 0.7232, Test Accuracy:80.07%\n",
            "Epoch: 37, Loss: 0.7282, Accuracy: 80.54%, Test Loss: 0.7230, Test Accuracy:80.13%\n",
            "Epoch: 38, Loss: 0.7276, Accuracy: 80.55%, Test Loss: 0.7228, Test Accuracy:80.13%\n",
            "Epoch: 39, Loss: 0.7272, Accuracy: 80.54%, Test Loss: 0.7227, Test Accuracy:80.15%\n",
            "Epoch: 40, Loss: 0.7268, Accuracy: 80.52%, Test Loss: 0.7224, Test Accuracy:80.15%\n",
            "Epoch: 41, Loss: 0.7264, Accuracy: 80.52%, Test Loss: 0.7221, Test Accuracy:80.13%\n",
            "Epoch: 42, Loss: 0.7261, Accuracy: 80.52%, Test Loss: 0.7217, Test Accuracy:80.12%\n",
            "Epoch: 43, Loss: 0.7257, Accuracy: 80.51%, Test Loss: 0.7212, Test Accuracy:80.15%\n",
            "Epoch: 44, Loss: 0.7253, Accuracy: 80.52%, Test Loss: 0.7208, Test Accuracy:80.15%\n",
            "Epoch: 45, Loss: 0.7248, Accuracy: 80.54%, Test Loss: 0.7203, Test Accuracy:80.17%\n",
            "Epoch: 46, Loss: 0.7244, Accuracy: 80.55%, Test Loss: 0.7200, Test Accuracy:80.12%\n",
            "Epoch: 47, Loss: 0.7241, Accuracy: 80.55%, Test Loss: 0.7197, Test Accuracy:80.12%\n",
            "Epoch: 48, Loss: 0.7239, Accuracy: 80.55%, Test Loss: 0.7195, Test Accuracy:80.12%\n",
            "Epoch: 49, Loss: 0.7236, Accuracy: 80.55%, Test Loss: 0.7193, Test Accuracy:80.12%\n",
            "Epoch: 50, Loss: 0.7234, Accuracy: 80.55%, Test Loss: 0.7191, Test Accuracy:80.12%\n",
            "Epoch: 51, Loss: 0.7232, Accuracy: 80.55%, Test Loss: 0.7190, Test Accuracy:80.10%\n",
            "Epoch: 52, Loss: 0.7231, Accuracy: 80.57%, Test Loss: 0.7188, Test Accuracy:80.10%\n",
            "Epoch: 53, Loss: 0.7228, Accuracy: 80.57%, Test Loss: 0.7186, Test Accuracy:80.10%\n",
            "Epoch: 54, Loss: 0.7226, Accuracy: 80.58%, Test Loss: 0.7184, Test Accuracy:80.12%\n",
            "Epoch: 55, Loss: 0.7224, Accuracy: 80.59%, Test Loss: 0.7182, Test Accuracy:80.10%\n",
            "Epoch: 56, Loss: 0.7221, Accuracy: 80.58%, Test Loss: 0.7180, Test Accuracy:80.07%\n",
            "Epoch: 57, Loss: 0.7218, Accuracy: 80.58%, Test Loss: 0.7179, Test Accuracy:80.08%\n",
            "Epoch: 58, Loss: 0.7216, Accuracy: 80.58%, Test Loss: 0.7178, Test Accuracy:80.10%\n",
            "Epoch: 59, Loss: 0.7214, Accuracy: 80.58%, Test Loss: 0.7178, Test Accuracy:80.10%\n",
            "Epoch: 60, Loss: 0.7213, Accuracy: 80.58%, Test Loss: 0.7178, Test Accuracy:80.10%\n",
            "Epoch: 61, Loss: 0.7211, Accuracy: 80.59%, Test Loss: 0.7178, Test Accuracy:80.10%\n",
            "Epoch: 62, Loss: 0.7209, Accuracy: 80.58%, Test Loss: 0.7178, Test Accuracy:80.10%\n",
            "Epoch: 63, Loss: 0.7207, Accuracy: 80.58%, Test Loss: 0.7178, Test Accuracy:80.10%\n",
            "Epoch: 64, Loss: 0.7205, Accuracy: 80.59%, Test Loss: 0.7178, Test Accuracy:80.10%\n",
            "Epoch: 65, Loss: 0.7203, Accuracy: 80.58%, Test Loss: 0.7179, Test Accuracy:80.07%\n",
            "Epoch: 66, Loss: 0.7201, Accuracy: 80.58%, Test Loss: 0.7179, Test Accuracy:80.05%\n",
            "Epoch: 67, Loss: 0.7199, Accuracy: 80.57%, Test Loss: 0.7179, Test Accuracy:80.05%\n",
            "Epoch: 68, Loss: 0.7197, Accuracy: 80.58%, Test Loss: 0.7179, Test Accuracy:80.05%\n",
            "Epoch: 69, Loss: 0.7195, Accuracy: 80.58%, Test Loss: 0.7177, Test Accuracy:80.05%\n",
            "Epoch: 70, Loss: 0.7193, Accuracy: 80.58%, Test Loss: 0.7175, Test Accuracy:80.05%\n",
            "Epoch: 71, Loss: 0.7190, Accuracy: 80.58%, Test Loss: 0.7172, Test Accuracy:80.05%\n",
            "Epoch: 72, Loss: 0.7188, Accuracy: 80.58%, Test Loss: 0.7169, Test Accuracy:80.05%\n",
            "Epoch: 73, Loss: 0.7185, Accuracy: 80.59%, Test Loss: 0.7166, Test Accuracy:80.07%\n",
            "Epoch: 74, Loss: 0.7183, Accuracy: 80.58%, Test Loss: 0.7163, Test Accuracy:80.08%\n",
            "Epoch: 75, Loss: 0.7180, Accuracy: 80.58%, Test Loss: 0.7161, Test Accuracy:80.12%\n",
            "Epoch: 76, Loss: 0.7178, Accuracy: 80.58%, Test Loss: 0.7158, Test Accuracy:80.13%\n",
            "Epoch: 77, Loss: 0.7175, Accuracy: 80.57%, Test Loss: 0.7156, Test Accuracy:80.13%\n",
            "Epoch: 78, Loss: 0.7172, Accuracy: 80.58%, Test Loss: 0.7154, Test Accuracy:80.13%\n",
            "Epoch: 79, Loss: 0.7169, Accuracy: 80.57%, Test Loss: 0.7152, Test Accuracy:80.13%\n",
            "Epoch: 80, Loss: 0.7166, Accuracy: 80.57%, Test Loss: 0.7151, Test Accuracy:80.12%\n",
            "Epoch: 81, Loss: 0.7163, Accuracy: 80.58%, Test Loss: 0.7150, Test Accuracy:80.08%\n",
            "Epoch: 82, Loss: 0.7160, Accuracy: 80.59%, Test Loss: 0.7149, Test Accuracy:80.10%\n",
            "Epoch: 83, Loss: 0.7157, Accuracy: 80.59%, Test Loss: 0.7148, Test Accuracy:80.10%\n",
            "Epoch: 84, Loss: 0.7153, Accuracy: 80.60%, Test Loss: 0.7146, Test Accuracy:80.10%\n",
            "Epoch: 85, Loss: 0.7150, Accuracy: 80.60%, Test Loss: 0.7144, Test Accuracy:80.10%\n",
            "Epoch: 86, Loss: 0.7146, Accuracy: 80.60%, Test Loss: 0.7142, Test Accuracy:80.10%\n",
            "Epoch: 87, Loss: 0.7143, Accuracy: 80.59%, Test Loss: 0.7140, Test Accuracy:80.12%\n",
            "Epoch: 88, Loss: 0.7139, Accuracy: 80.58%, Test Loss: 0.7138, Test Accuracy:80.10%\n",
            "Epoch: 89, Loss: 0.7135, Accuracy: 80.58%, Test Loss: 0.7137, Test Accuracy:80.10%\n",
            "Epoch: 90, Loss: 0.7132, Accuracy: 80.58%, Test Loss: 0.7135, Test Accuracy:80.10%\n",
            "Epoch: 91, Loss: 0.7128, Accuracy: 80.58%, Test Loss: 0.7134, Test Accuracy:80.10%\n",
            "Epoch: 92, Loss: 0.7124, Accuracy: 80.58%, Test Loss: 0.7133, Test Accuracy:80.08%\n",
            "Epoch: 93, Loss: 0.7121, Accuracy: 80.57%, Test Loss: 0.7132, Test Accuracy:80.10%\n",
            "Epoch: 94, Loss: 0.7118, Accuracy: 80.57%, Test Loss: 0.7132, Test Accuracy:80.08%\n",
            "Epoch: 95, Loss: 0.7114, Accuracy: 80.57%, Test Loss: 0.7132, Test Accuracy:80.08%\n",
            "Epoch: 96, Loss: 0.7112, Accuracy: 80.57%, Test Loss: 0.7133, Test Accuracy:80.08%\n",
            "Epoch: 97, Loss: 0.7109, Accuracy: 80.56%, Test Loss: 0.7133, Test Accuracy:80.10%\n",
            "Epoch: 98, Loss: 0.7106, Accuracy: 80.56%, Test Loss: 0.7132, Test Accuracy:80.10%\n",
            "Epoch: 99, Loss: 0.7104, Accuracy: 80.56%, Test Loss: 0.7131, Test Accuracy:80.10%\n",
            "Epoch: 100, Loss: 0.7102, Accuracy: 80.57%, Test Loss: 0.7131, Test Accuracy:80.10%\n",
            "Epoch: 101, Loss: 0.7100, Accuracy: 80.57%, Test Loss: 0.7131, Test Accuracy:80.10%\n",
            "Epoch: 102, Loss: 0.7098, Accuracy: 80.57%, Test Loss: 0.7132, Test Accuracy:80.10%\n",
            "Epoch: 103, Loss: 0.7096, Accuracy: 80.57%, Test Loss: 0.7132, Test Accuracy:80.08%\n",
            "Epoch: 104, Loss: 0.7095, Accuracy: 80.57%, Test Loss: 0.7131, Test Accuracy:80.08%\n",
            "Epoch: 105, Loss: 0.7094, Accuracy: 80.57%, Test Loss: 0.7131, Test Accuracy:80.07%\n",
            "Epoch: 106, Loss: 0.7092, Accuracy: 80.58%, Test Loss: 0.7131, Test Accuracy:80.05%\n",
            "Epoch: 107, Loss: 0.7091, Accuracy: 80.58%, Test Loss: 0.7131, Test Accuracy:80.05%\n",
            "Epoch: 108, Loss: 0.7090, Accuracy: 80.58%, Test Loss: 0.7131, Test Accuracy:80.03%\n",
            "Epoch: 109, Loss: 0.7089, Accuracy: 80.58%, Test Loss: 0.7129, Test Accuracy:80.05%\n",
            "Epoch: 110, Loss: 0.7088, Accuracy: 80.58%, Test Loss: 0.7128, Test Accuracy:80.05%\n",
            "Epoch: 111, Loss: 0.7087, Accuracy: 80.58%, Test Loss: 0.7128, Test Accuracy:80.02%\n",
            "Epoch: 112, Loss: 0.7086, Accuracy: 80.58%, Test Loss: 0.7127, Test Accuracy:80.02%\n",
            "Epoch: 113, Loss: 0.7085, Accuracy: 80.57%, Test Loss: 0.7126, Test Accuracy:80.02%\n",
            "Epoch: 114, Loss: 0.7084, Accuracy: 80.57%, Test Loss: 0.7125, Test Accuracy:80.02%\n",
            "Epoch: 115, Loss: 0.7084, Accuracy: 80.58%, Test Loss: 0.7124, Test Accuracy:80.02%\n",
            "Epoch: 116, Loss: 0.7083, Accuracy: 80.58%, Test Loss: 0.7124, Test Accuracy:80.02%\n",
            "Epoch: 117, Loss: 0.7082, Accuracy: 80.57%, Test Loss: 0.7123, Test Accuracy:80.00%\n",
            "Epoch: 118, Loss: 0.7082, Accuracy: 80.57%, Test Loss: 0.7122, Test Accuracy:80.00%\n",
            "Epoch: 119, Loss: 0.7081, Accuracy: 80.56%, Test Loss: 0.7122, Test Accuracy:79.83%\n",
            "Epoch: 120, Loss: 0.7081, Accuracy: 80.49%, Test Loss: 0.7122, Test Accuracy:79.80%\n",
            "Epoch: 121, Loss: 0.7080, Accuracy: 80.49%, Test Loss: 0.7122, Test Accuracy:79.78%\n",
            "Epoch: 122, Loss: 0.7080, Accuracy: 80.49%, Test Loss: 0.7122, Test Accuracy:79.80%\n",
            "Epoch: 123, Loss: 0.7079, Accuracy: 80.49%, Test Loss: 0.7122, Test Accuracy:79.80%\n",
            "Epoch: 124, Loss: 0.7079, Accuracy: 80.49%, Test Loss: 0.7122, Test Accuracy:79.80%\n",
            "Epoch: 125, Loss: 0.7079, Accuracy: 80.49%, Test Loss: 0.7122, Test Accuracy:79.80%\n",
            "Epoch: 126, Loss: 0.7078, Accuracy: 80.49%, Test Loss: 0.7121, Test Accuracy:79.80%\n",
            "Epoch: 127, Loss: 0.7078, Accuracy: 80.49%, Test Loss: 0.7120, Test Accuracy:79.80%\n"
          ]
        }
      ]
    },
    {
      "cell_type": "markdown",
      "source": [
        "# 5. Evaluating the Model"
      ],
      "metadata": {
        "id": "_xpK7GmQS_P4"
      }
    },
    {
      "cell_type": "code",
      "source": [
        "import matplotlib.pyplot as plt\n",
        "from sklearn import metrics\n",
        "from sklearn.metrics import confusion_matrix\n",
        "\n",
        "def show_confusion_matrix(y_true, preds):\n",
        "  '''\n",
        "  Plots confusion matrix\n",
        "  '''\n",
        "\n",
        "  # Take confusion matrices with both values and percentages\n",
        "  cm_values = confusion_matrix(y_true.cpu().numpy(), preds.cpu().numpy())\n",
        "  cm_probs = confusion_matrix(y_true.cpu().numpy(), preds.cpu().numpy(),\n",
        "                              normalize='all')\n",
        "\n",
        "  # Convert into DataFrames\n",
        "  df_values = pd.DataFrame(cm_values, index=[0,1], columns=[0,1])\n",
        "  df_probs = pd.DataFrame(cm_probs, index=[0,1], columns=[0,1])\n",
        "\n",
        "  # Combine into one DataFrame\n",
        "  df_cm = pd.DataFrame({\n",
        "      0: [f'{df_values.iloc[0,0]} ({df_probs.iloc[0,0]:.2f})',\n",
        "          f'{df_values.iloc[1,0]} ({df_probs.iloc[1,0]:.2f})'],\n",
        "\n",
        "      1: [f'{df_values.iloc[0,1]} ({df_probs.iloc[0,1]:.2f})',\n",
        "          f'{df_values.iloc[1,1]} ({df_probs.iloc[1,1]:.2f})']\n",
        "\n",
        "  })\n",
        "\n",
        "  # Display confusion matrix using heatmap of percentages\n",
        "  ax = sns.heatmap(df_probs, annot=False, cmap='Blues', vmin=0.0, vmax=1.0)\n",
        "\n",
        "  # Format text\n",
        "  for i in range(df_probs.shape[0]):\n",
        "      for j in range(df_probs.shape[1]):\n",
        "          ax.text(j + 0.5, i + 0.5, df_cm.iloc[i, j],\n",
        "                  ha='center', va='center', color='black', fontsize=10)\n",
        "\n",
        "\n",
        "  plt.xlabel('Predicted Labels')\n",
        "  plt.ylabel('True Labels')\n",
        "  plt.yticks(rotation=0)\n",
        "  plt.title('Confusion Matrix')\n",
        "\n",
        "# Displaying confusion matrix\n",
        "show_confusion_matrix(y_test, test_pred)"
      ],
      "metadata": {
        "colab": {
          "base_uri": "https://localhost:8080/",
          "height": 329
        },
        "id": "_acb8SlJJx2T",
        "outputId": "230f90a0-9008-4899-cf27-4c0a3a72cd0f"
      },
      "execution_count": null,
      "outputs": [
        {
          "output_type": "error",
          "ename": "ValueError",
          "evalue": "Found input variables with inconsistent numbers of samples: [6000, 9346]",
          "traceback": [
            "\u001b[0;31m---------------------------------------------------------------------------\u001b[0m",
            "\u001b[0;31mValueError\u001b[0m                                Traceback (most recent call last)",
            "\u001b[0;32m<ipython-input-161-6e46631137bd>\u001b[0m in \u001b[0;36m<cell line: 45>\u001b[0;34m()\u001b[0m\n\u001b[1;32m     43\u001b[0m \u001b[0;34m\u001b[0m\u001b[0m\n\u001b[1;32m     44\u001b[0m \u001b[0;31m# Displaying confusion matrix\u001b[0m\u001b[0;34m\u001b[0m\u001b[0;34m\u001b[0m\u001b[0m\n\u001b[0;32m---> 45\u001b[0;31m \u001b[0mshow_confusion_matrix\u001b[0m\u001b[0;34m(\u001b[0m\u001b[0my_test\u001b[0m\u001b[0;34m,\u001b[0m \u001b[0mtest_pred\u001b[0m\u001b[0;34m)\u001b[0m\u001b[0;34m\u001b[0m\u001b[0;34m\u001b[0m\u001b[0m\n\u001b[0m",
            "\u001b[0;32m<ipython-input-161-6e46631137bd>\u001b[0m in \u001b[0;36mshow_confusion_matrix\u001b[0;34m(y_true, preds)\u001b[0m\n\u001b[1;32m      9\u001b[0m \u001b[0;34m\u001b[0m\u001b[0m\n\u001b[1;32m     10\u001b[0m   \u001b[0;31m# Take confusion matrices with both values and percentages\u001b[0m\u001b[0;34m\u001b[0m\u001b[0;34m\u001b[0m\u001b[0m\n\u001b[0;32m---> 11\u001b[0;31m   \u001b[0mcm_values\u001b[0m \u001b[0;34m=\u001b[0m \u001b[0mconfusion_matrix\u001b[0m\u001b[0;34m(\u001b[0m\u001b[0my_true\u001b[0m\u001b[0;34m.\u001b[0m\u001b[0mcpu\u001b[0m\u001b[0;34m(\u001b[0m\u001b[0;34m)\u001b[0m\u001b[0;34m.\u001b[0m\u001b[0mnumpy\u001b[0m\u001b[0;34m(\u001b[0m\u001b[0;34m)\u001b[0m\u001b[0;34m,\u001b[0m \u001b[0mpreds\u001b[0m\u001b[0;34m.\u001b[0m\u001b[0mcpu\u001b[0m\u001b[0;34m(\u001b[0m\u001b[0;34m)\u001b[0m\u001b[0;34m.\u001b[0m\u001b[0mnumpy\u001b[0m\u001b[0;34m(\u001b[0m\u001b[0;34m)\u001b[0m\u001b[0;34m)\u001b[0m\u001b[0;34m\u001b[0m\u001b[0;34m\u001b[0m\u001b[0m\n\u001b[0m\u001b[1;32m     12\u001b[0m   cm_probs = confusion_matrix(y_true.cpu().numpy(), preds.cpu().numpy(),\n\u001b[1;32m     13\u001b[0m                               normalize='all')\n",
            "\u001b[0;32m/usr/local/lib/python3.10/dist-packages/sklearn/utils/_param_validation.py\u001b[0m in \u001b[0;36mwrapper\u001b[0;34m(*args, **kwargs)\u001b[0m\n\u001b[1;32m    212\u001b[0m                     )\n\u001b[1;32m    213\u001b[0m                 ):\n\u001b[0;32m--> 214\u001b[0;31m                     \u001b[0;32mreturn\u001b[0m \u001b[0mfunc\u001b[0m\u001b[0;34m(\u001b[0m\u001b[0;34m*\u001b[0m\u001b[0margs\u001b[0m\u001b[0;34m,\u001b[0m \u001b[0;34m**\u001b[0m\u001b[0mkwargs\u001b[0m\u001b[0;34m)\u001b[0m\u001b[0;34m\u001b[0m\u001b[0;34m\u001b[0m\u001b[0m\n\u001b[0m\u001b[1;32m    215\u001b[0m             \u001b[0;32mexcept\u001b[0m \u001b[0mInvalidParameterError\u001b[0m \u001b[0;32mas\u001b[0m \u001b[0me\u001b[0m\u001b[0;34m:\u001b[0m\u001b[0;34m\u001b[0m\u001b[0;34m\u001b[0m\u001b[0m\n\u001b[1;32m    216\u001b[0m                 \u001b[0;31m# When the function is just a wrapper around an estimator, we allow\u001b[0m\u001b[0;34m\u001b[0m\u001b[0;34m\u001b[0m\u001b[0m\n",
            "\u001b[0;32m/usr/local/lib/python3.10/dist-packages/sklearn/metrics/_classification.py\u001b[0m in \u001b[0;36mconfusion_matrix\u001b[0;34m(y_true, y_pred, labels, sample_weight, normalize)\u001b[0m\n\u001b[1;32m    324\u001b[0m     \u001b[0;34m(\u001b[0m\u001b[0;36m0\u001b[0m\u001b[0;34m,\u001b[0m \u001b[0;36m2\u001b[0m\u001b[0;34m,\u001b[0m \u001b[0;36m1\u001b[0m\u001b[0;34m,\u001b[0m \u001b[0;36m1\u001b[0m\u001b[0;34m)\u001b[0m\u001b[0;34m\u001b[0m\u001b[0;34m\u001b[0m\u001b[0m\n\u001b[1;32m    325\u001b[0m     \"\"\"\n\u001b[0;32m--> 326\u001b[0;31m     \u001b[0my_type\u001b[0m\u001b[0;34m,\u001b[0m \u001b[0my_true\u001b[0m\u001b[0;34m,\u001b[0m \u001b[0my_pred\u001b[0m \u001b[0;34m=\u001b[0m \u001b[0m_check_targets\u001b[0m\u001b[0;34m(\u001b[0m\u001b[0my_true\u001b[0m\u001b[0;34m,\u001b[0m \u001b[0my_pred\u001b[0m\u001b[0;34m)\u001b[0m\u001b[0;34m\u001b[0m\u001b[0;34m\u001b[0m\u001b[0m\n\u001b[0m\u001b[1;32m    327\u001b[0m     \u001b[0;32mif\u001b[0m \u001b[0my_type\u001b[0m \u001b[0;32mnot\u001b[0m \u001b[0;32min\u001b[0m \u001b[0;34m(\u001b[0m\u001b[0;34m\"binary\"\u001b[0m\u001b[0;34m,\u001b[0m \u001b[0;34m\"multiclass\"\u001b[0m\u001b[0;34m)\u001b[0m\u001b[0;34m:\u001b[0m\u001b[0;34m\u001b[0m\u001b[0;34m\u001b[0m\u001b[0m\n\u001b[1;32m    328\u001b[0m         \u001b[0;32mraise\u001b[0m \u001b[0mValueError\u001b[0m\u001b[0;34m(\u001b[0m\u001b[0;34m\"%s is not supported\"\u001b[0m \u001b[0;34m%\u001b[0m \u001b[0my_type\u001b[0m\u001b[0;34m)\u001b[0m\u001b[0;34m\u001b[0m\u001b[0;34m\u001b[0m\u001b[0m\n",
            "\u001b[0;32m/usr/local/lib/python3.10/dist-packages/sklearn/metrics/_classification.py\u001b[0m in \u001b[0;36m_check_targets\u001b[0;34m(y_true, y_pred)\u001b[0m\n\u001b[1;32m     82\u001b[0m     \u001b[0my_pred\u001b[0m \u001b[0;34m:\u001b[0m \u001b[0marray\u001b[0m \u001b[0;32mor\u001b[0m \u001b[0mindicator\u001b[0m \u001b[0mmatrix\u001b[0m\u001b[0;34m\u001b[0m\u001b[0;34m\u001b[0m\u001b[0m\n\u001b[1;32m     83\u001b[0m     \"\"\"\n\u001b[0;32m---> 84\u001b[0;31m     \u001b[0mcheck_consistent_length\u001b[0m\u001b[0;34m(\u001b[0m\u001b[0my_true\u001b[0m\u001b[0;34m,\u001b[0m \u001b[0my_pred\u001b[0m\u001b[0;34m)\u001b[0m\u001b[0;34m\u001b[0m\u001b[0;34m\u001b[0m\u001b[0m\n\u001b[0m\u001b[1;32m     85\u001b[0m     \u001b[0mtype_true\u001b[0m \u001b[0;34m=\u001b[0m \u001b[0mtype_of_target\u001b[0m\u001b[0;34m(\u001b[0m\u001b[0my_true\u001b[0m\u001b[0;34m,\u001b[0m \u001b[0minput_name\u001b[0m\u001b[0;34m=\u001b[0m\u001b[0;34m\"y_true\"\u001b[0m\u001b[0;34m)\u001b[0m\u001b[0;34m\u001b[0m\u001b[0;34m\u001b[0m\u001b[0m\n\u001b[1;32m     86\u001b[0m     \u001b[0mtype_pred\u001b[0m \u001b[0;34m=\u001b[0m \u001b[0mtype_of_target\u001b[0m\u001b[0;34m(\u001b[0m\u001b[0my_pred\u001b[0m\u001b[0;34m,\u001b[0m \u001b[0minput_name\u001b[0m\u001b[0;34m=\u001b[0m\u001b[0;34m\"y_pred\"\u001b[0m\u001b[0;34m)\u001b[0m\u001b[0;34m\u001b[0m\u001b[0;34m\u001b[0m\u001b[0m\n",
            "\u001b[0;32m/usr/local/lib/python3.10/dist-packages/sklearn/utils/validation.py\u001b[0m in \u001b[0;36mcheck_consistent_length\u001b[0;34m(*arrays)\u001b[0m\n\u001b[1;32m    405\u001b[0m     \u001b[0muniques\u001b[0m \u001b[0;34m=\u001b[0m \u001b[0mnp\u001b[0m\u001b[0;34m.\u001b[0m\u001b[0munique\u001b[0m\u001b[0;34m(\u001b[0m\u001b[0mlengths\u001b[0m\u001b[0;34m)\u001b[0m\u001b[0;34m\u001b[0m\u001b[0;34m\u001b[0m\u001b[0m\n\u001b[1;32m    406\u001b[0m     \u001b[0;32mif\u001b[0m \u001b[0mlen\u001b[0m\u001b[0;34m(\u001b[0m\u001b[0muniques\u001b[0m\u001b[0;34m)\u001b[0m \u001b[0;34m>\u001b[0m \u001b[0;36m1\u001b[0m\u001b[0;34m:\u001b[0m\u001b[0;34m\u001b[0m\u001b[0;34m\u001b[0m\u001b[0m\n\u001b[0;32m--> 407\u001b[0;31m         raise ValueError(\n\u001b[0m\u001b[1;32m    408\u001b[0m             \u001b[0;34m\"Found input variables with inconsistent numbers of samples: %r\"\u001b[0m\u001b[0;34m\u001b[0m\u001b[0;34m\u001b[0m\u001b[0m\n\u001b[1;32m    409\u001b[0m             \u001b[0;34m%\u001b[0m \u001b[0;34m[\u001b[0m\u001b[0mint\u001b[0m\u001b[0;34m(\u001b[0m\u001b[0ml\u001b[0m\u001b[0;34m)\u001b[0m \u001b[0;32mfor\u001b[0m \u001b[0ml\u001b[0m \u001b[0;32min\u001b[0m \u001b[0mlengths\u001b[0m\u001b[0;34m]\u001b[0m\u001b[0;34m\u001b[0m\u001b[0;34m\u001b[0m\u001b[0m\n",
            "\u001b[0;31mValueError\u001b[0m: Found input variables with inconsistent numbers of samples: [6000, 9346]"
          ]
        }
      ]
    },
    {
      "cell_type": "code",
      "source": [
        "from sklearn.metrics import roc_auc_score, roc_curve\n",
        "\n",
        "def plot_roc_curve(y_true, preds):\n",
        "    \"\"\"\n",
        "    Plots the ROC Curve and calculates ROC AUC score\n",
        "    \"\"\"\n",
        "\n",
        "    # Calculate ROC AUC score\n",
        "    auc = roc_auc_score(y_true.cpu().numpy(), preds.cpu().numpy())\n",
        "\n",
        "    # Plot ROC Curve\n",
        "    fpr, tpr, _ = roc_curve(y_true.cpu(), preds.cpu())\n",
        "    plt.plot(fpr, tpr, label=f'AUC = {auc:.3f}')\n",
        "    plt.plot([0, 1], [0, 1], color='gray', linestyle='--')\n",
        "    plt.xlim([0.0, 1.0])\n",
        "    plt.ylim([0.0, 1.0])\n",
        "    plt.title('Receiver Operating Characteristic (ROC) Curve')\n",
        "    plt.xlabel('False Positive Rate')\n",
        "    plt.ylabel('True Positive Rate')\n",
        "    plt.legend(loc='lower right')\n",
        "\n",
        "# Plotting ROC Curve\n",
        "#plot_roc_curve(y_test, test_logits)"
      ],
      "metadata": {
        "id": "ZgjXuhNH3ZkJ"
      },
      "execution_count": null,
      "outputs": []
    },
    {
      "cell_type": "code",
      "source": [
        "from sklearn.metrics import precision_recall_curve, average_precision_score\n",
        "\n",
        "def plot_precision_recall(y_true, preds):\n",
        "  '''\n",
        "  Plots Precision/Recall Curve and calculates AUC score\n",
        "  '''\n",
        "\n",
        "  # Calculate precision and recall\n",
        "  precision, recall, thresholds = precision_recall_curve(y_true.cpu().numpy(),\n",
        "                                                         torch.sigmoid(preds).cpu().numpy())\n",
        "\n",
        "  # Calculate AUC score\n",
        "  auc = average_precision_score(y_true.cpu().numpy(), torch.sigmoid(preds).cpu().numpy())\n",
        "\n",
        "  # Plot Precision-Recall Curve\n",
        "  plt.figure(figsize=(6, 4))\n",
        "  plt.plot(recall, precision, label=f'AUC = {auc:.3f}')\n",
        "  plt.title('Precision/Recall Curve')\n",
        "  plt.xlabel('Recall')\n",
        "  plt.ylabel('Precision')\n",
        "  plt.legend(loc='upper right')\n",
        "  plt.show()\n",
        "\n",
        "  print(f\"Precision-Recall AUC: {auc:.4f}\")\n",
        "\n",
        "# Plotting Precision/Recall Curve\n",
        "plot_precision_recall(y_test, test_pred)"
      ],
      "metadata": {
        "colab": {
          "base_uri": "https://localhost:8080/",
          "height": 428
        },
        "id": "lylEwTc_Hage",
        "outputId": "da832066-81db-40d0-cbe3-a60c0228c687"
      },
      "execution_count": null,
      "outputs": [
        {
          "output_type": "display_data",
          "data": {
            "text/plain": [
              "<Figure size 600x400 with 1 Axes>"
            ],
            "image/png": "[encoded data removed]"
          },
          "metadata": {}
        },
        {
          "output_type": "stream",
          "name": "stdout",
          "text": [
            "Precision-Recall AUC: 0.3286\n"
          ]
        }
      ]
    },
    {
      "cell_type": "code",
      "source": [
        "# Count distribution of predictions vs actual\n",
        "class_zero_preds = 0\n",
        "class_one_preds = 0\n",
        "class_zero_actual = 0\n",
        "class_one_actual = 0\n",
        "\n",
        "for i in range(len(test_pred)):\n",
        "  if test_pred[i] == 0:\n",
        "    class_zero_preds += 1\n",
        "  elif test_pred[i] == 1:\n",
        "    class_one_preds += 1\n",
        "\n",
        "  if y_test[i] == 0:\n",
        "    class_zero_actual += 1\n",
        "  elif y_test[i] == 1:\n",
        "    class_one_actual += 1\n",
        "\n",
        "\n",
        "print(f'Predictions:\\nClass zero: {class_zero_preds}\\nClass one: {class_one_preds}\\n---\\\n",
        "\\nActual:\\nClass zero: {class_zero_actual}\\nClass one: {class_one_actual}')"
      ],
      "metadata": {
        "colab": {
          "base_uri": "https://localhost:8080/"
        },
        "id": "_kpiOM331Zzu",
        "outputId": "d51e0139-851c-4e1c-f674-5481a1c9ff1f"
      },
      "execution_count": null,
      "outputs": [
        {
          "output_type": "stream",
          "name": "stdout",
          "text": [
            "Predictions:\n",
            "Class zero: 5248\n",
            "Class one: 752\n",
            "---\n",
            "Actual:\n",
            "Class zero: 4696\n",
            "Class one: 1304\n"
          ]
        }
      ]
    },
    {
      "cell_type": "markdown",
      "source": [
        "This model has great accuracy but does not tell us much about the data since it is biased towards the majority class. We can handle this using SMOTE."
      ],
      "metadata": {
        "id": "BKAaCFq9SuAM"
      }
    },
    {
      "cell_type": "markdown",
      "source": [
        "# 6. Resampling Data"
      ],
      "metadata": {
        "id": "PBv_tCIIepuD"
      }
    },
    {
      "cell_type": "code",
      "source": [
        "# Resampling data using SMOTE\n",
        "from imblearn.over_sampling import SMOTE\n",
        "\n",
        "X = credit_data.drop(columns='default', axis=1)\n",
        "y = credit_data['default']\n",
        "\n",
        "smote = SMOTE(random_state=seed)\n",
        "X_new, y_new = smote.fit_resample(X, y.astype(int))"
      ],
      "metadata": {
        "id": "lRBui7F2H9em"
      },
      "execution_count": null,
      "outputs": []
    },
    {
      "cell_type": "code",
      "source": [
        "# Turning data into tensors and setting to current device\n",
        "X_new = torch.tensor(X_new.values).to(device)\n",
        "y_new = torch.tensor(y_new.values).to(device)\n",
        "\n",
        "print(f\"New X type: {type(X_new)}, New y type: {type(y_new)}\\\n",
        "      \\nNew X device: {X_new.device}, New y device: {y_new.device}\")"
      ],
      "metadata": {
        "colab": {
          "base_uri": "https://localhost:8080/"
        },
        "id": "C1F26KdiISU_",
        "outputId": "da96c197-77f0-4cc4-fc31-e40884b0762c"
      },
      "execution_count": null,
      "outputs": [
        {
          "output_type": "stream",
          "name": "stdout",
          "text": [
            "New X type: <class 'torch.Tensor'>, New y type: <class 'torch.Tensor'>      \n",
            "New X device: cpu, New y device: cpu\n"
          ]
        }
      ]
    },
    {
      "cell_type": "code",
      "source": [
        "# Changing data types to float\n",
        "X_new = X_new.to(torch.float)\n",
        "y_new = y_new.to(torch.float)\n",
        "\n",
        "print(f\"New X data type: {X_new.dtype}\\nNew y data type: {y_new.dtype}\")"
      ],
      "metadata": {
        "colab": {
          "base_uri": "https://localhost:8080/"
        },
        "id": "PrITelR6Kc3X",
        "outputId": "6307ad0c-1840-4081-f868-3e34ed1e8c05"
      },
      "execution_count": null,
      "outputs": [
        {
          "output_type": "stream",
          "name": "stdout",
          "text": [
            "New X data type: torch.float32\n",
            "New y data type: torch.float32\n"
          ]
        }
      ]
    },
    {
      "cell_type": "code",
      "source": [
        "# Splitting data into testing/training\n",
        "seed = 123\n",
        "X_train_new, X_test_new, y_train_new, y_test_new = train_test_split(X_new, y_new,\n",
        "                                                    test_size=0.2,\n",
        "                                                    random_state=seed)\n",
        "\n",
        "\n",
        "print(f\"Training Size: {len(X_train_new)}, Testing Size: {len(X_test_new)}\\\n",
        "      \\nDesired Testing Size: {int(len(X_new)*0.2)}\")"
      ],
      "metadata": {
        "colab": {
          "base_uri": "https://localhost:8080/"
        },
        "id": "anNFSF2fLNjr",
        "outputId": "fe15b500-692c-4ca4-c716-e646881b0588"
      },
      "execution_count": null,
      "outputs": [
        {
          "output_type": "stream",
          "name": "stdout",
          "text": [
            "Training Size: 37382, Testing Size: 9346      \n",
            "Desired Testing Size: 9345\n"
          ]
        }
      ]
    },
    {
      "cell_type": "markdown",
      "source": [
        "# 7. Rebuilding Model"
      ],
      "metadata": {
        "id": "-gdXQagIS6U0"
      }
    },
    {
      "cell_type": "code",
      "source": [
        "torch.manual_seed(seed)\n",
        "\n",
        "# Creating model class\n",
        "class BinaryClassificationModelv2(nn.Module):\n",
        "  def __init__(self, in_features, out_features, hidden_units):\n",
        "    super().__init__()\n",
        "    self.layer_stack = nn.Sequential(\n",
        "        nn.Linear(in_features, hidden_units),\n",
        "        nn.Linear(hidden_units, hidden_units),\n",
        "        nn.ReLU(),\n",
        "        nn.Linear(hidden_units, hidden_units),\n",
        "        nn.ReLU(),\n",
        "        nn.Linear(hidden_units, hidden_units),\n",
        "        nn.ReLU(),\n",
        "        nn.Linear(hidden_units, out_features),\n",
        "    )\n",
        "\n",
        "  def forward(self, x):\n",
        "    return self.layer_stack(x)"
      ],
      "metadata": {
        "id": "Kf641-KRLhZ6"
      },
      "execution_count": null,
      "outputs": []
    },
    {
      "cell_type": "code",
      "source": [
        "torch.manual_seed(seed)\n",
        "\n",
        "# Creating an instance of the model\n",
        "CreditModelv2 = BinaryClassificationModelv2(in_features=X_new.shape[1],\n",
        "                                        out_features=1,\n",
        "                                        hidden_units=128).to(device)\n",
        "\n",
        "CreditModelv2"
      ],
      "metadata": {
        "colab": {
          "base_uri": "https://localhost:8080/"
        },
        "id": "JUBMvjVHLjUQ",
        "outputId": "3f28f692-a55b-48a7-d2df-1260f8fe4add"
      },
      "execution_count": null,
      "outputs": [
        {
          "output_type": "execute_result",
          "data": {
            "text/plain": [
              "BinaryClassificationModelv2(\n",
              "  (layer_stack): Sequential(\n",
              "    (0): Linear(in_features=10, out_features=128, bias=True)\n",
              "    (1): Linear(in_features=128, out_features=128, bias=True)\n",
              "    (2): ReLU()\n",
              "    (3): Linear(in_features=128, out_features=128, bias=True)\n",
              "    (4): ReLU()\n",
              "    (5): Linear(in_features=128, out_features=128, bias=True)\n",
              "    (6): ReLU()\n",
              "    (7): Linear(in_features=128, out_features=1, bias=True)\n",
              "  )\n",
              ")"
            ]
          },
          "metadata": {},
          "execution_count": 152
        }
      ]
    },
    {
      "cell_type": "code",
      "source": [
        "# Create loss/optimizer functions\n",
        "learn_rate = 0.01\n",
        "loss_fn = nn.BCEWithLogitsLoss()\n",
        "optimizer = torch.optim.Adam(params=CreditModelv2.parameters(),\n",
        "                            lr=learn_rate, weight_decay=0.0000001)"
      ],
      "metadata": {
        "id": "MDVQrtb5Lrv8"
      },
      "execution_count": null,
      "outputs": []
    },
    {
      "cell_type": "markdown",
      "source": [
        "# 8. Training/Testing Loop"
      ],
      "metadata": {
        "id": "H6Scmai0TIlv"
      }
    },
    {
      "cell_type": "code",
      "source": [
        "torch.manual_seed(seed)\n",
        "\n",
        "epochs = 500\n",
        "\n",
        "for epoch in range(epochs+1):\n",
        "  # TRAINING !!!\n",
        "  CreditModelv2.train()\n",
        "  epoch_count.append(epoch)\n",
        "\n",
        "  # 1. Forward step\n",
        "  y_logits = CreditModelv2(X_train_new).squeeze()\n",
        "  y_pred = torch.round(torch.sigmoid(y_logits))\n",
        "\n",
        "  # 2. Calculate the loss\n",
        "  loss = loss_fn(y_logits, y_train_new)\n",
        "  acc = accuracy_fn(y_train_new, y_pred)\n",
        "\n",
        "  # 3. Optimizer zero grad\n",
        "  optimizer.zero_grad()\n",
        "\n",
        "  # 4. Loss backwards\n",
        "  loss.backward()\n",
        "\n",
        "  # 5. Optimizer step\n",
        "  optimizer.step()\n",
        "\n",
        "  # TESTING !!!\n",
        "  CreditModelv2.eval()\n",
        "  with torch.inference_mode():\n",
        "\n",
        "    # 1. Forward pass\n",
        "    test_logits = CreditModelv2(X_test_new).squeeze()\n",
        "    test_pred = torch.round(torch.sigmoid(test_logits))\n",
        "\n",
        "    # 2. Calculate the loss\n",
        "    test_loss = loss_fn(test_logits, y_test_new)\n",
        "    test_acc = accuracy_fn(y_test_new, test_pred)\n",
        "\n",
        "\n",
        "  print(f\"Epoch: {epoch + 1}, Loss: {loss:.4f}, Accuracy: {acc:.2f}%,\\\n",
        " Test Loss: {test_loss:.4f}, Test Accuracy:{test_acc:.2f}%\")"
      ],
      "metadata": {
        "colab": {
          "base_uri": "https://localhost:8080/"
        },
        "collapsed": true,
        "id": "il3_aXsLLyNs",
        "outputId": "e52f2bd0-5b4b-49af-f2f8-999c3a3c3f99"
      },
      "execution_count": null,
      "outputs": [
        {
          "output_type": "stream",
          "name": "stdout",
          "text": [
            "Epoch: 1, Loss: 0.6928, Accuracy: 51.17%, Test Loss: 0.6531, Test Accuracy:63.33%\n",
            "Epoch: 2, Loss: 0.6532, Accuracy: 63.69%, Test Loss: 0.6474, Test Accuracy:64.62%\n",
            "Epoch: 3, Loss: 0.6506, Accuracy: 64.74%, Test Loss: 0.6147, Test Accuracy:66.46%\n",
            "Epoch: 4, Loss: 0.6160, Accuracy: 66.48%, Test Loss: 0.6272, Test Accuracy:63.35%\n",
            "Epoch: 5, Loss: 0.6283, Accuracy: 64.07%, Test Loss: 0.6174, Test Accuracy:66.42%\n",
            "Epoch: 6, Loss: 0.6193, Accuracy: 66.83%, Test Loss: 0.6150, Test Accuracy:66.34%\n",
            "Epoch: 7, Loss: 0.6171, Accuracy: 66.71%, Test Loss: 0.6116, Test Accuracy:66.58%\n",
            "Epoch: 8, Loss: 0.6139, Accuracy: 67.00%, Test Loss: 0.6095, Test Accuracy:66.39%\n",
            "Epoch: 9, Loss: 0.6120, Accuracy: 66.69%, Test Loss: 0.6054, Test Accuracy:66.68%\n",
            "Epoch: 10, Loss: 0.6078, Accuracy: 66.72%, Test Loss: 0.6010, Test Accuracy:67.30%\n",
            "Epoch: 11, Loss: 0.6029, Accuracy: 67.07%, Test Loss: 0.5980, Test Accuracy:67.95%\n",
            "Epoch: 12, Loss: 0.5989, Accuracy: 68.02%, Test Loss: 0.5965, Test Accuracy:67.76%\n",
            "Epoch: 13, Loss: 0.5968, Accuracy: 67.82%, Test Loss: 0.5917, Test Accuracy:68.04%\n",
            "Epoch: 14, Loss: 0.5921, Accuracy: 68.59%, Test Loss: 0.5875, Test Accuracy:68.77%\n",
            "Epoch: 15, Loss: 0.5875, Accuracy: 69.04%, Test Loss: 0.5877, Test Accuracy:68.60%\n",
            "Epoch: 16, Loss: 0.5869, Accuracy: 68.93%, Test Loss: 0.5872, Test Accuracy:68.45%\n",
            "Epoch: 17, Loss: 0.5859, Accuracy: 69.31%, Test Loss: 0.5857, Test Accuracy:68.47%\n",
            "Epoch: 18, Loss: 0.5832, Accuracy: 69.09%, Test Loss: 0.5825, Test Accuracy:69.18%\n",
            "Epoch: 19, Loss: 0.5806, Accuracy: 69.59%, Test Loss: 0.5797, Test Accuracy:69.45%\n",
            "Epoch: 20, Loss: 0.5799, Accuracy: 69.55%, Test Loss: 0.5789, Test Accuracy:69.15%\n",
            "Epoch: 21, Loss: 0.5791, Accuracy: 69.59%, Test Loss: 0.5759, Test Accuracy:69.55%\n",
            "Epoch: 22, Loss: 0.5756, Accuracy: 70.17%, Test Loss: 0.5770, Test Accuracy:69.88%\n",
            "Epoch: 23, Loss: 0.5752, Accuracy: 70.31%, Test Loss: 0.5775, Test Accuracy:69.52%\n",
            "Epoch: 24, Loss: 0.5747, Accuracy: 70.15%, Test Loss: 0.5762, Test Accuracy:70.04%\n",
            "Epoch: 25, Loss: 0.5741, Accuracy: 70.39%, Test Loss: 0.5741, Test Accuracy:69.96%\n",
            "Epoch: 26, Loss: 0.5723, Accuracy: 70.49%, Test Loss: 0.5745, Test Accuracy:70.48%\n",
            "Epoch: 27, Loss: 0.5729, Accuracy: 70.56%, Test Loss: 0.5835, Test Accuracy:69.41%\n",
            "Epoch: 28, Loss: 0.5798, Accuracy: 69.76%, Test Loss: 0.5822, Test Accuracy:69.03%\n",
            "Epoch: 29, Loss: 0.5810, Accuracy: 69.41%, Test Loss: 0.5783, Test Accuracy:69.88%\n",
            "Epoch: 30, Loss: 0.5752, Accuracy: 70.29%, Test Loss: 0.5767, Test Accuracy:69.17%\n",
            "Epoch: 31, Loss: 0.5733, Accuracy: 69.98%, Test Loss: 0.5767, Test Accuracy:70.14%\n",
            "Epoch: 32, Loss: 0.5744, Accuracy: 70.46%, Test Loss: 0.5731, Test Accuracy:70.28%\n",
            "Epoch: 33, Loss: 0.5714, Accuracy: 70.63%, Test Loss: 0.5752, Test Accuracy:70.02%\n",
            "Epoch: 34, Loss: 0.5726, Accuracy: 70.48%, Test Loss: 0.5734, Test Accuracy:70.07%\n",
            "Epoch: 35, Loss: 0.5701, Accuracy: 70.83%, Test Loss: 0.5739, Test Accuracy:69.99%\n",
            "Epoch: 36, Loss: 0.5707, Accuracy: 70.62%, Test Loss: 0.5719, Test Accuracy:70.29%\n",
            "Epoch: 37, Loss: 0.5691, Accuracy: 70.89%, Test Loss: 0.5717, Test Accuracy:70.25%\n",
            "Epoch: 38, Loss: 0.5687, Accuracy: 70.68%, Test Loss: 0.5717, Test Accuracy:70.69%\n",
            "Epoch: 39, Loss: 0.5683, Accuracy: 70.79%, Test Loss: 0.5700, Test Accuracy:70.98%\n",
            "Epoch: 40, Loss: 0.5662, Accuracy: 71.18%, Test Loss: 0.5716, Test Accuracy:70.12%\n",
            "Epoch: 41, Loss: 0.5674, Accuracy: 71.00%, Test Loss: 0.5693, Test Accuracy:70.31%\n",
            "Epoch: 42, Loss: 0.5651, Accuracy: 71.15%, Test Loss: 0.5692, Test Accuracy:70.97%\n",
            "Epoch: 43, Loss: 0.5653, Accuracy: 71.18%, Test Loss: 0.5683, Test Accuracy:70.66%\n",
            "Epoch: 44, Loss: 0.5643, Accuracy: 71.20%, Test Loss: 0.5687, Test Accuracy:70.77%\n",
            "Epoch: 45, Loss: 0.5638, Accuracy: 71.38%, Test Loss: 0.5689, Test Accuracy:70.65%\n",
            "Epoch: 46, Loss: 0.5636, Accuracy: 71.42%, Test Loss: 0.5676, Test Accuracy:71.15%\n",
            "Epoch: 47, Loss: 0.5624, Accuracy: 71.41%, Test Loss: 0.5675, Test Accuracy:70.99%\n",
            "Epoch: 48, Loss: 0.5624, Accuracy: 71.38%, Test Loss: 0.5669, Test Accuracy:70.94%\n",
            "Epoch: 49, Loss: 0.5615, Accuracy: 71.46%, Test Loss: 0.5670, Test Accuracy:70.58%\n",
            "Epoch: 50, Loss: 0.5607, Accuracy: 71.40%, Test Loss: 0.5670, Test Accuracy:70.86%\n",
            "Epoch: 51, Loss: 0.5604, Accuracy: 71.41%, Test Loss: 0.5662, Test Accuracy:70.86%\n",
            "Epoch: 52, Loss: 0.5598, Accuracy: 71.57%, Test Loss: 0.5655, Test Accuracy:70.98%\n",
            "Epoch: 53, Loss: 0.5591, Accuracy: 71.53%, Test Loss: 0.5651, Test Accuracy:71.39%\n",
            "Epoch: 54, Loss: 0.5585, Accuracy: 71.74%, Test Loss: 0.5658, Test Accuracy:70.85%\n",
            "Epoch: 55, Loss: 0.5587, Accuracy: 71.61%, Test Loss: 0.5684, Test Accuracy:70.91%\n",
            "Epoch: 56, Loss: 0.5613, Accuracy: 71.43%, Test Loss: 0.5826, Test Accuracy:69.47%\n",
            "Epoch: 57, Loss: 0.5754, Accuracy: 70.02%, Test Loss: 0.5758, Test Accuracy:70.06%\n",
            "Epoch: 58, Loss: 0.5702, Accuracy: 71.03%, Test Loss: 0.5647, Test Accuracy:71.13%\n",
            "Epoch: 59, Loss: 0.5591, Accuracy: 71.58%, Test Loss: 0.5715, Test Accuracy:70.21%\n",
            "Epoch: 60, Loss: 0.5654, Accuracy: 70.77%, Test Loss: 0.5656, Test Accuracy:70.84%\n",
            "Epoch: 61, Loss: 0.5594, Accuracy: 71.58%, Test Loss: 0.5691, Test Accuracy:70.75%\n",
            "Epoch: 62, Loss: 0.5631, Accuracy: 71.32%, Test Loss: 0.5644, Test Accuracy:71.35%\n",
            "Epoch: 63, Loss: 0.5576, Accuracy: 71.69%, Test Loss: 0.5686, Test Accuracy:70.78%\n",
            "Epoch: 64, Loss: 0.5610, Accuracy: 71.38%, Test Loss: 0.5645, Test Accuracy:70.92%\n",
            "Epoch: 65, Loss: 0.5578, Accuracy: 71.71%, Test Loss: 0.5648, Test Accuracy:70.98%\n",
            "Epoch: 66, Loss: 0.5575, Accuracy: 71.91%, Test Loss: 0.5656, Test Accuracy:71.12%\n",
            "Epoch: 67, Loss: 0.5573, Accuracy: 71.52%, Test Loss: 0.5630, Test Accuracy:71.39%\n",
            "Epoch: 68, Loss: 0.5549, Accuracy: 71.69%, Test Loss: 0.5644, Test Accuracy:71.34%\n",
            "Epoch: 69, Loss: 0.5561, Accuracy: 71.87%, Test Loss: 0.5627, Test Accuracy:71.41%\n",
            "Epoch: 70, Loss: 0.5536, Accuracy: 71.73%, Test Loss: 0.5624, Test Accuracy:71.65%\n",
            "Epoch: 71, Loss: 0.5533, Accuracy: 71.95%, Test Loss: 0.5635, Test Accuracy:71.32%\n",
            "Epoch: 72, Loss: 0.5540, Accuracy: 71.98%, Test Loss: 0.5624, Test Accuracy:71.28%\n",
            "Epoch: 73, Loss: 0.5527, Accuracy: 72.14%, Test Loss: 0.5616, Test Accuracy:71.11%\n",
            "Epoch: 74, Loss: 0.5512, Accuracy: 72.19%, Test Loss: 0.5604, Test Accuracy:71.73%\n",
            "Epoch: 75, Loss: 0.5508, Accuracy: 72.16%, Test Loss: 0.5597, Test Accuracy:71.61%\n",
            "Epoch: 76, Loss: 0.5493, Accuracy: 72.11%, Test Loss: 0.5601, Test Accuracy:71.65%\n",
            "Epoch: 77, Loss: 0.5491, Accuracy: 72.45%, Test Loss: 0.5589, Test Accuracy:71.97%\n",
            "Epoch: 78, Loss: 0.5484, Accuracy: 72.38%, Test Loss: 0.5584, Test Accuracy:71.55%\n",
            "Epoch: 79, Loss: 0.5467, Accuracy: 72.53%, Test Loss: 0.5585, Test Accuracy:71.67%\n",
            "Epoch: 80, Loss: 0.5457, Accuracy: 72.51%, Test Loss: 0.5586, Test Accuracy:71.53%\n",
            "Epoch: 81, Loss: 0.5463, Accuracy: 72.44%, Test Loss: 0.5607, Test Accuracy:71.32%\n",
            "Epoch: 82, Loss: 0.5477, Accuracy: 72.20%, Test Loss: 0.5618, Test Accuracy:70.90%\n",
            "Epoch: 83, Loss: 0.5509, Accuracy: 71.84%, Test Loss: 0.5628, Test Accuracy:71.17%\n",
            "Epoch: 84, Loss: 0.5506, Accuracy: 71.80%, Test Loss: 0.5765, Test Accuracy:69.63%\n",
            "Epoch: 85, Loss: 0.5650, Accuracy: 71.05%, Test Loss: 0.5755, Test Accuracy:70.70%\n",
            "Epoch: 86, Loss: 0.5630, Accuracy: 71.53%, Test Loss: 0.5630, Test Accuracy:70.81%\n",
            "Epoch: 87, Loss: 0.5518, Accuracy: 71.93%, Test Loss: 0.5648, Test Accuracy:71.19%\n",
            "Epoch: 88, Loss: 0.5539, Accuracy: 72.23%, Test Loss: 0.5678, Test Accuracy:70.51%\n",
            "Epoch: 89, Loss: 0.5550, Accuracy: 71.60%, Test Loss: 0.5626, Test Accuracy:70.90%\n",
            "Epoch: 90, Loss: 0.5496, Accuracy: 72.41%, Test Loss: 0.5645, Test Accuracy:70.85%\n",
            "Epoch: 91, Loss: 0.5517, Accuracy: 71.87%, Test Loss: 0.5630, Test Accuracy:71.00%\n",
            "Epoch: 92, Loss: 0.5483, Accuracy: 72.13%, Test Loss: 0.5591, Test Accuracy:71.52%\n",
            "Epoch: 93, Loss: 0.5446, Accuracy: 72.57%, Test Loss: 0.5607, Test Accuracy:71.15%\n",
            "Epoch: 94, Loss: 0.5471, Accuracy: 72.54%, Test Loss: 0.5581, Test Accuracy:71.82%\n",
            "Epoch: 95, Loss: 0.5437, Accuracy: 72.67%, Test Loss: 0.5579, Test Accuracy:71.24%\n",
            "Epoch: 96, Loss: 0.5428, Accuracy: 72.53%, Test Loss: 0.5569, Test Accuracy:71.26%\n",
            "Epoch: 97, Loss: 0.5417, Accuracy: 72.71%, Test Loss: 0.5563, Test Accuracy:71.82%\n",
            "Epoch: 98, Loss: 0.5414, Accuracy: 72.63%, Test Loss: 0.5559, Test Accuracy:71.60%\n",
            "Epoch: 99, Loss: 0.5403, Accuracy: 72.92%, Test Loss: 0.5559, Test Accuracy:71.87%\n",
            "Epoch: 100, Loss: 0.5389, Accuracy: 72.98%, Test Loss: 0.5546, Test Accuracy:71.66%\n",
            "Epoch: 101, Loss: 0.5374, Accuracy: 73.00%, Test Loss: 0.5540, Test Accuracy:71.66%\n",
            "Epoch: 102, Loss: 0.5360, Accuracy: 73.19%, Test Loss: 0.5538, Test Accuracy:71.90%\n",
            "Epoch: 103, Loss: 0.5353, Accuracy: 73.33%, Test Loss: 0.5550, Test Accuracy:71.80%\n",
            "Epoch: 104, Loss: 0.5357, Accuracy: 72.92%, Test Loss: 0.5629, Test Accuracy:70.49%\n",
            "Epoch: 105, Loss: 0.5426, Accuracy: 72.28%, Test Loss: 0.5910, Test Accuracy:70.40%\n",
            "Epoch: 106, Loss: 0.5709, Accuracy: 71.16%, Test Loss: 0.6118, Test Accuracy:67.54%\n",
            "Epoch: 107, Loss: 0.5999, Accuracy: 68.37%, Test Loss: 0.5733, Test Accuracy:70.68%\n",
            "Epoch: 108, Loss: 0.5636, Accuracy: 72.43%, Test Loss: 0.5767, Test Accuracy:69.07%\n",
            "Epoch: 109, Loss: 0.5656, Accuracy: 69.86%, Test Loss: 0.5830, Test Accuracy:68.96%\n",
            "Epoch: 110, Loss: 0.5715, Accuracy: 69.50%, Test Loss: 0.5679, Test Accuracy:69.71%\n",
            "Epoch: 111, Loss: 0.5572, Accuracy: 70.33%, Test Loss: 0.5665, Test Accuracy:69.98%\n",
            "Epoch: 112, Loss: 0.5560, Accuracy: 71.11%, Test Loss: 0.5723, Test Accuracy:70.25%\n",
            "Epoch: 113, Loss: 0.5612, Accuracy: 71.22%, Test Loss: 0.5669, Test Accuracy:70.55%\n",
            "Epoch: 114, Loss: 0.5552, Accuracy: 71.61%, Test Loss: 0.5678, Test Accuracy:71.07%\n",
            "Epoch: 115, Loss: 0.5554, Accuracy: 71.77%, Test Loss: 0.5655, Test Accuracy:71.30%\n",
            "Epoch: 116, Loss: 0.5526, Accuracy: 71.82%, Test Loss: 0.5646, Test Accuracy:70.95%\n",
            "Epoch: 117, Loss: 0.5506, Accuracy: 71.90%, Test Loss: 0.5620, Test Accuracy:70.91%\n",
            "Epoch: 118, Loss: 0.5479, Accuracy: 72.09%, Test Loss: 0.5613, Test Accuracy:70.38%\n",
            "Epoch: 119, Loss: 0.5472, Accuracy: 72.04%, Test Loss: 0.5605, Test Accuracy:70.90%\n",
            "Epoch: 120, Loss: 0.5460, Accuracy: 72.35%, Test Loss: 0.5576, Test Accuracy:71.31%\n",
            "Epoch: 121, Loss: 0.5423, Accuracy: 72.59%, Test Loss: 0.5573, Test Accuracy:70.93%\n",
            "Epoch: 122, Loss: 0.5415, Accuracy: 72.47%, Test Loss: 0.5574, Test Accuracy:71.22%\n",
            "Epoch: 123, Loss: 0.5410, Accuracy: 72.49%, Test Loss: 0.5570, Test Accuracy:71.19%\n",
            "Epoch: 124, Loss: 0.5392, Accuracy: 72.48%, Test Loss: 0.5558, Test Accuracy:71.66%\n",
            "Epoch: 125, Loss: 0.5365, Accuracy: 73.07%, Test Loss: 0.5545, Test Accuracy:71.86%\n",
            "Epoch: 126, Loss: 0.5350, Accuracy: 73.09%, Test Loss: 0.5531, Test Accuracy:71.65%\n",
            "Epoch: 127, Loss: 0.5341, Accuracy: 73.09%, Test Loss: 0.5529, Test Accuracy:71.73%\n",
            "Epoch: 128, Loss: 0.5334, Accuracy: 73.34%, Test Loss: 0.5511, Test Accuracy:71.90%\n",
            "Epoch: 129, Loss: 0.5305, Accuracy: 73.37%, Test Loss: 0.5521, Test Accuracy:71.86%\n",
            "Epoch: 130, Loss: 0.5296, Accuracy: 73.28%, Test Loss: 0.5517, Test Accuracy:71.76%\n",
            "Epoch: 131, Loss: 0.5286, Accuracy: 73.28%, Test Loss: 0.5493, Test Accuracy:72.17%\n",
            "Epoch: 132, Loss: 0.5262, Accuracy: 73.53%, Test Loss: 0.5483, Test Accuracy:71.98%\n",
            "Epoch: 133, Loss: 0.5255, Accuracy: 73.57%, Test Loss: 0.5468, Test Accuracy:72.42%\n",
            "Epoch: 134, Loss: 0.5239, Accuracy: 73.90%, Test Loss: 0.5469, Test Accuracy:72.54%\n",
            "Epoch: 135, Loss: 0.5221, Accuracy: 74.07%, Test Loss: 0.5474, Test Accuracy:72.73%\n",
            "Epoch: 136, Loss: 0.5208, Accuracy: 74.11%, Test Loss: 0.5473, Test Accuracy:72.52%\n",
            "Epoch: 137, Loss: 0.5198, Accuracy: 74.13%, Test Loss: 0.5461, Test Accuracy:72.56%\n",
            "Epoch: 138, Loss: 0.5186, Accuracy: 74.20%, Test Loss: 0.5554, Test Accuracy:71.40%\n",
            "Epoch: 139, Loss: 0.5275, Accuracy: 73.58%, Test Loss: 0.5718, Test Accuracy:72.04%\n",
            "Epoch: 140, Loss: 0.5454, Accuracy: 73.43%, Test Loss: 0.5706, Test Accuracy:70.29%\n",
            "Epoch: 141, Loss: 0.5477, Accuracy: 71.89%, Test Loss: 0.5662, Test Accuracy:70.50%\n",
            "Epoch: 142, Loss: 0.5429, Accuracy: 72.05%, Test Loss: 0.5557, Test Accuracy:71.86%\n",
            "Epoch: 143, Loss: 0.5315, Accuracy: 73.27%, Test Loss: 0.5648, Test Accuracy:70.95%\n",
            "Epoch: 144, Loss: 0.5401, Accuracy: 72.77%, Test Loss: 0.5595, Test Accuracy:71.49%\n",
            "Epoch: 145, Loss: 0.5316, Accuracy: 73.43%, Test Loss: 0.5555, Test Accuracy:71.43%\n",
            "Epoch: 146, Loss: 0.5264, Accuracy: 73.46%, Test Loss: 0.5584, Test Accuracy:71.37%\n",
            "Epoch: 147, Loss: 0.5311, Accuracy: 73.45%, Test Loss: 0.5513, Test Accuracy:72.26%\n",
            "Epoch: 148, Loss: 0.5238, Accuracy: 73.91%, Test Loss: 0.5508, Test Accuracy:72.19%\n",
            "Epoch: 149, Loss: 0.5231, Accuracy: 73.76%, Test Loss: 0.5524, Test Accuracy:71.88%\n",
            "Epoch: 150, Loss: 0.5251, Accuracy: 73.65%, Test Loss: 0.5491, Test Accuracy:71.78%\n",
            "Epoch: 151, Loss: 0.5201, Accuracy: 74.06%, Test Loss: 0.5470, Test Accuracy:72.06%\n",
            "Epoch: 152, Loss: 0.5170, Accuracy: 74.46%, Test Loss: 0.5480, Test Accuracy:72.30%\n",
            "Epoch: 153, Loss: 0.5173, Accuracy: 74.21%, Test Loss: 0.5478, Test Accuracy:72.27%\n",
            "Epoch: 154, Loss: 0.5157, Accuracy: 74.30%, Test Loss: 0.5452, Test Accuracy:72.60%\n",
            "Epoch: 155, Loss: 0.5124, Accuracy: 74.66%, Test Loss: 0.5444, Test Accuracy:72.43%\n",
            "Epoch: 156, Loss: 0.5102, Accuracy: 74.68%, Test Loss: 0.5469, Test Accuracy:72.10%\n",
            "Epoch: 157, Loss: 0.5111, Accuracy: 74.50%, Test Loss: 0.5518, Test Accuracy:72.14%\n",
            "Epoch: 158, Loss: 0.5156, Accuracy: 73.83%, Test Loss: 0.5555, Test Accuracy:72.02%\n",
            "Epoch: 159, Loss: 0.5165, Accuracy: 73.73%, Test Loss: 0.5579, Test Accuracy:71.37%\n",
            "Epoch: 160, Loss: 0.5220, Accuracy: 73.89%, Test Loss: 0.5534, Test Accuracy:72.02%\n",
            "Epoch: 161, Loss: 0.5159, Accuracy: 74.12%, Test Loss: 0.5414, Test Accuracy:72.63%\n",
            "Epoch: 162, Loss: 0.5040, Accuracy: 75.15%, Test Loss: 0.5453, Test Accuracy:72.00%\n",
            "Epoch: 163, Loss: 0.5076, Accuracy: 75.05%, Test Loss: 0.5500, Test Accuracy:72.36%\n",
            "Epoch: 164, Loss: 0.5109, Accuracy: 74.49%, Test Loss: 0.5474, Test Accuracy:72.04%\n",
            "Epoch: 165, Loss: 0.5094, Accuracy: 74.40%, Test Loss: 0.5440, Test Accuracy:72.61%\n",
            "Epoch: 166, Loss: 0.5030, Accuracy: 74.93%, Test Loss: 0.5405, Test Accuracy:72.82%\n",
            "Epoch: 167, Loss: 0.4984, Accuracy: 75.42%, Test Loss: 0.5406, Test Accuracy:72.69%\n",
            "Epoch: 168, Loss: 0.4974, Accuracy: 75.36%, Test Loss: 0.5395, Test Accuracy:72.73%\n",
            "Epoch: 169, Loss: 0.4950, Accuracy: 75.46%, Test Loss: 0.5404, Test Accuracy:72.72%\n",
            "Epoch: 170, Loss: 0.4962, Accuracy: 75.74%, Test Loss: 0.5440, Test Accuracy:72.84%\n",
            "Epoch: 171, Loss: 0.4971, Accuracy: 75.30%, Test Loss: 0.5542, Test Accuracy:71.67%\n",
            "Epoch: 172, Loss: 0.5069, Accuracy: 74.49%, Test Loss: 0.5826, Test Accuracy:71.06%\n",
            "Epoch: 173, Loss: 0.5340, Accuracy: 72.83%, Test Loss: 0.5882, Test Accuracy:69.18%\n",
            "Epoch: 174, Loss: 0.5520, Accuracy: 71.63%, Test Loss: 0.5467, Test Accuracy:71.98%\n",
            "Epoch: 175, Loss: 0.5091, Accuracy: 74.72%, Test Loss: 0.5793, Test Accuracy:70.44%\n",
            "Epoch: 176, Loss: 0.5379, Accuracy: 72.02%, Test Loss: 0.5464, Test Accuracy:71.85%\n",
            "Epoch: 177, Loss: 0.5068, Accuracy: 74.92%, Test Loss: 0.5625, Test Accuracy:70.39%\n",
            "Epoch: 178, Loss: 0.5261, Accuracy: 73.27%, Test Loss: 0.5469, Test Accuracy:72.07%\n",
            "Epoch: 179, Loss: 0.5086, Accuracy: 74.70%, Test Loss: 0.5545, Test Accuracy:71.67%\n",
            "Epoch: 180, Loss: 0.5139, Accuracy: 73.79%, Test Loss: 0.5437, Test Accuracy:72.49%\n",
            "Epoch: 181, Loss: 0.5053, Accuracy: 74.97%, Test Loss: 0.5453, Test Accuracy:72.04%\n",
            "Epoch: 182, Loss: 0.5070, Accuracy: 74.74%, Test Loss: 0.5458, Test Accuracy:72.41%\n",
            "Epoch: 183, Loss: 0.5035, Accuracy: 75.11%, Test Loss: 0.5454, Test Accuracy:72.49%\n",
            "Epoch: 184, Loss: 0.4997, Accuracy: 75.20%, Test Loss: 0.5440, Test Accuracy:72.57%\n",
            "Epoch: 185, Loss: 0.4980, Accuracy: 75.46%, Test Loss: 0.5383, Test Accuracy:72.54%\n",
            "Epoch: 186, Loss: 0.4934, Accuracy: 75.98%, Test Loss: 0.5412, Test Accuracy:72.79%\n",
            "Epoch: 187, Loss: 0.4959, Accuracy: 75.53%, Test Loss: 0.5387, Test Accuracy:72.98%\n",
            "Epoch: 188, Loss: 0.4902, Accuracy: 75.96%, Test Loss: 0.5411, Test Accuracy:72.90%\n",
            "Epoch: 189, Loss: 0.4900, Accuracy: 75.97%, Test Loss: 0.5401, Test Accuracy:72.77%\n",
            "Epoch: 190, Loss: 0.4873, Accuracy: 76.11%, Test Loss: 0.5383, Test Accuracy:72.95%\n",
            "Epoch: 191, Loss: 0.4852, Accuracy: 76.41%, Test Loss: 0.5379, Test Accuracy:73.20%\n",
            "Epoch: 192, Loss: 0.4831, Accuracy: 76.45%, Test Loss: 0.5402, Test Accuracy:73.04%\n",
            "Epoch: 193, Loss: 0.4833, Accuracy: 76.22%, Test Loss: 0.5407, Test Accuracy:72.45%\n",
            "Epoch: 194, Loss: 0.4831, Accuracy: 76.38%, Test Loss: 0.5411, Test Accuracy:73.16%\n",
            "Epoch: 195, Loss: 0.4814, Accuracy: 76.53%, Test Loss: 0.5407, Test Accuracy:72.91%\n",
            "Epoch: 196, Loss: 0.4793, Accuracy: 76.61%, Test Loss: 0.5382, Test Accuracy:73.11%\n",
            "Epoch: 197, Loss: 0.4772, Accuracy: 76.47%, Test Loss: 0.5371, Test Accuracy:72.90%\n",
            "Epoch: 198, Loss: 0.4776, Accuracy: 76.49%, Test Loss: 0.5386, Test Accuracy:72.78%\n",
            "Epoch: 199, Loss: 0.4754, Accuracy: 76.66%, Test Loss: 0.5406, Test Accuracy:72.99%\n",
            "Epoch: 200, Loss: 0.4764, Accuracy: 76.87%, Test Loss: 0.5470, Test Accuracy:72.88%\n",
            "Epoch: 201, Loss: 0.4808, Accuracy: 76.00%, Test Loss: 0.5578, Test Accuracy:71.69%\n",
            "Epoch: 202, Loss: 0.4961, Accuracy: 74.97%, Test Loss: 0.5610, Test Accuracy:72.42%\n",
            "Epoch: 203, Loss: 0.4952, Accuracy: 74.92%, Test Loss: 0.5489, Test Accuracy:72.59%\n",
            "Epoch: 204, Loss: 0.4872, Accuracy: 75.88%, Test Loss: 0.5350, Test Accuracy:73.60%\n",
            "Epoch: 205, Loss: 0.4719, Accuracy: 77.02%, Test Loss: 0.5522, Test Accuracy:72.59%\n",
            "Epoch: 206, Loss: 0.4850, Accuracy: 75.45%, Test Loss: 0.5467, Test Accuracy:72.48%\n",
            "Epoch: 207, Loss: 0.4848, Accuracy: 76.36%, Test Loss: 0.5396, Test Accuracy:73.44%\n",
            "Epoch: 208, Loss: 0.4745, Accuracy: 76.83%, Test Loss: 0.5407, Test Accuracy:73.39%\n",
            "Epoch: 209, Loss: 0.4709, Accuracy: 77.00%, Test Loss: 0.5515, Test Accuracy:72.06%\n",
            "Epoch: 210, Loss: 0.4843, Accuracy: 75.94%, Test Loss: 0.5405, Test Accuracy:73.06%\n",
            "Epoch: 211, Loss: 0.4733, Accuracy: 76.80%, Test Loss: 0.5355, Test Accuracy:73.37%\n",
            "Epoch: 212, Loss: 0.4701, Accuracy: 77.14%, Test Loss: 0.5358, Test Accuracy:73.37%\n",
            "Epoch: 213, Loss: 0.4699, Accuracy: 77.24%, Test Loss: 0.5411, Test Accuracy:73.65%\n",
            "Epoch: 214, Loss: 0.4701, Accuracy: 77.00%, Test Loss: 0.5400, Test Accuracy:73.28%\n",
            "Epoch: 215, Loss: 0.4693, Accuracy: 76.82%, Test Loss: 0.5366, Test Accuracy:73.73%\n",
            "Epoch: 216, Loss: 0.4636, Accuracy: 77.56%, Test Loss: 0.5340, Test Accuracy:73.59%\n",
            "Epoch: 217, Loss: 0.4610, Accuracy: 77.52%, Test Loss: 0.5332, Test Accuracy:73.92%\n",
            "Epoch: 218, Loss: 0.4605, Accuracy: 77.57%, Test Loss: 0.5358, Test Accuracy:73.84%\n",
            "Epoch: 219, Loss: 0.4611, Accuracy: 77.42%, Test Loss: 0.5402, Test Accuracy:73.03%\n",
            "Epoch: 220, Loss: 0.4632, Accuracy: 77.65%, Test Loss: 0.5490, Test Accuracy:73.20%\n",
            "Epoch: 221, Loss: 0.4689, Accuracy: 77.09%, Test Loss: 0.5532, Test Accuracy:72.87%\n",
            "Epoch: 222, Loss: 0.4774, Accuracy: 76.54%, Test Loss: 0.5481, Test Accuracy:73.18%\n",
            "Epoch: 223, Loss: 0.4710, Accuracy: 76.65%, Test Loss: 0.5330, Test Accuracy:73.49%\n",
            "Epoch: 224, Loss: 0.4582, Accuracy: 77.91%, Test Loss: 0.5336, Test Accuracy:73.61%\n",
            "Epoch: 225, Loss: 0.4550, Accuracy: 77.88%, Test Loss: 0.5410, Test Accuracy:73.69%\n",
            "Epoch: 226, Loss: 0.4590, Accuracy: 77.60%, Test Loss: 0.5387, Test Accuracy:73.30%\n",
            "Epoch: 227, Loss: 0.4603, Accuracy: 77.61%, Test Loss: 0.5412, Test Accuracy:73.90%\n",
            "Epoch: 228, Loss: 0.4601, Accuracy: 77.43%, Test Loss: 0.5386, Test Accuracy:73.64%\n",
            "Epoch: 229, Loss: 0.4572, Accuracy: 77.87%, Test Loss: 0.5328, Test Accuracy:73.99%\n",
            "Epoch: 230, Loss: 0.4468, Accuracy: 78.46%, Test Loss: 0.5354, Test Accuracy:73.54%\n",
            "Epoch: 231, Loss: 0.4477, Accuracy: 78.41%, Test Loss: 0.5303, Test Accuracy:74.22%\n",
            "Epoch: 232, Loss: 0.4461, Accuracy: 78.58%, Test Loss: 0.5354, Test Accuracy:74.11%\n",
            "Epoch: 233, Loss: 0.4485, Accuracy: 78.19%, Test Loss: 0.5386, Test Accuracy:73.67%\n",
            "Epoch: 234, Loss: 0.4519, Accuracy: 78.28%, Test Loss: 0.5501, Test Accuracy:73.42%\n",
            "Epoch: 235, Loss: 0.4596, Accuracy: 77.59%, Test Loss: 0.5650, Test Accuracy:72.45%\n",
            "Epoch: 236, Loss: 0.4803, Accuracy: 76.63%, Test Loss: 0.5568, Test Accuracy:73.05%\n",
            "Epoch: 237, Loss: 0.4692, Accuracy: 76.67%, Test Loss: 0.5368, Test Accuracy:73.71%\n",
            "Epoch: 238, Loss: 0.4528, Accuracy: 78.01%, Test Loss: 0.5383, Test Accuracy:73.77%\n",
            "Epoch: 239, Loss: 0.4519, Accuracy: 78.13%, Test Loss: 0.5469, Test Accuracy:73.64%\n",
            "Epoch: 240, Loss: 0.4596, Accuracy: 77.22%, Test Loss: 0.5403, Test Accuracy:73.31%\n",
            "Epoch: 241, Loss: 0.4585, Accuracy: 77.89%, Test Loss: 0.5320, Test Accuracy:73.90%\n",
            "Epoch: 242, Loss: 0.4468, Accuracy: 78.34%, Test Loss: 0.5368, Test Accuracy:73.92%\n",
            "Epoch: 243, Loss: 0.4453, Accuracy: 78.34%, Test Loss: 0.5449, Test Accuracy:73.03%\n",
            "Epoch: 244, Loss: 0.4539, Accuracy: 78.20%, Test Loss: 0.5459, Test Accuracy:73.87%\n",
            "Epoch: 245, Loss: 0.4530, Accuracy: 77.95%, Test Loss: 0.5341, Test Accuracy:73.97%\n",
            "Epoch: 246, Loss: 0.4432, Accuracy: 78.80%, Test Loss: 0.5315, Test Accuracy:74.20%\n",
            "Epoch: 247, Loss: 0.4394, Accuracy: 79.04%, Test Loss: 0.5321, Test Accuracy:74.35%\n",
            "Epoch: 248, Loss: 0.4383, Accuracy: 78.86%, Test Loss: 0.5350, Test Accuracy:74.52%\n",
            "Epoch: 249, Loss: 0.4401, Accuracy: 79.05%, Test Loss: 0.5354, Test Accuracy:74.95%\n",
            "Epoch: 250, Loss: 0.4371, Accuracy: 78.69%, Test Loss: 0.5364, Test Accuracy:73.89%\n",
            "Epoch: 251, Loss: 0.4394, Accuracy: 79.00%, Test Loss: 0.5433, Test Accuracy:74.20%\n",
            "Epoch: 252, Loss: 0.4437, Accuracy: 78.45%, Test Loss: 0.5363, Test Accuracy:73.83%\n",
            "Epoch: 253, Loss: 0.4419, Accuracy: 79.03%, Test Loss: 0.5341, Test Accuracy:74.66%\n",
            "Epoch: 254, Loss: 0.4387, Accuracy: 78.76%, Test Loss: 0.5311, Test Accuracy:74.98%\n",
            "Epoch: 255, Loss: 0.4326, Accuracy: 79.55%, Test Loss: 0.5275, Test Accuracy:75.26%\n",
            "Epoch: 256, Loss: 0.4264, Accuracy: 79.73%, Test Loss: 0.5290, Test Accuracy:74.64%\n",
            "Epoch: 257, Loss: 0.4287, Accuracy: 79.72%, Test Loss: 0.5309, Test Accuracy:74.52%\n",
            "Epoch: 258, Loss: 0.4269, Accuracy: 79.82%, Test Loss: 0.5453, Test Accuracy:74.53%\n",
            "Epoch: 259, Loss: 0.4364, Accuracy: 78.74%, Test Loss: 0.5630, Test Accuracy:72.65%\n",
            "Epoch: 260, Loss: 0.4612, Accuracy: 77.32%, Test Loss: 0.5783, Test Accuracy:72.51%\n",
            "Epoch: 261, Loss: 0.4735, Accuracy: 76.23%, Test Loss: 0.5563, Test Accuracy:73.11%\n",
            "Epoch: 262, Loss: 0.4602, Accuracy: 77.66%, Test Loss: 0.5333, Test Accuracy:74.35%\n",
            "Epoch: 263, Loss: 0.4336, Accuracy: 79.17%, Test Loss: 0.5629, Test Accuracy:73.09%\n",
            "Epoch: 264, Loss: 0.4563, Accuracy: 77.27%, Test Loss: 0.5530, Test Accuracy:72.90%\n",
            "Epoch: 265, Loss: 0.4576, Accuracy: 77.71%, Test Loss: 0.5381, Test Accuracy:74.52%\n",
            "Epoch: 266, Loss: 0.4413, Accuracy: 78.88%, Test Loss: 0.5455, Test Accuracy:74.38%\n",
            "Epoch: 267, Loss: 0.4438, Accuracy: 78.51%, Test Loss: 0.5423, Test Accuracy:74.25%\n",
            "Epoch: 268, Loss: 0.4427, Accuracy: 78.92%, Test Loss: 0.5314, Test Accuracy:74.49%\n",
            "Epoch: 269, Loss: 0.4305, Accuracy: 79.42%, Test Loss: 0.5396, Test Accuracy:74.65%\n",
            "Epoch: 270, Loss: 0.4365, Accuracy: 78.98%, Test Loss: 0.5314, Test Accuracy:74.45%\n",
            "Epoch: 271, Loss: 0.4313, Accuracy: 79.21%, Test Loss: 0.5250, Test Accuracy:75.32%\n",
            "Epoch: 272, Loss: 0.4235, Accuracy: 79.93%, Test Loss: 0.5345, Test Accuracy:74.49%\n",
            "Epoch: 273, Loss: 0.4297, Accuracy: 79.34%, Test Loss: 0.5289, Test Accuracy:74.75%\n",
            "Epoch: 274, Loss: 0.4226, Accuracy: 80.05%, Test Loss: 0.5317, Test Accuracy:74.98%\n",
            "Epoch: 275, Loss: 0.4205, Accuracy: 79.88%, Test Loss: 0.5290, Test Accuracy:75.03%\n",
            "Epoch: 276, Loss: 0.4161, Accuracy: 80.29%, Test Loss: 0.5274, Test Accuracy:75.10%\n",
            "Epoch: 277, Loss: 0.4155, Accuracy: 80.35%, Test Loss: 0.5303, Test Accuracy:75.35%\n",
            "Epoch: 278, Loss: 0.4144, Accuracy: 80.32%, Test Loss: 0.5265, Test Accuracy:75.28%\n",
            "Epoch: 279, Loss: 0.4091, Accuracy: 80.55%, Test Loss: 0.5273, Test Accuracy:75.24%\n",
            "Epoch: 280, Loss: 0.4082, Accuracy: 80.91%, Test Loss: 0.5285, Test Accuracy:75.01%\n",
            "Epoch: 281, Loss: 0.4076, Accuracy: 80.73%, Test Loss: 0.5281, Test Accuracy:75.20%\n",
            "Epoch: 282, Loss: 0.4056, Accuracy: 80.99%, Test Loss: 0.5296, Test Accuracy:75.57%\n",
            "Epoch: 283, Loss: 0.4056, Accuracy: 80.99%, Test Loss: 0.5272, Test Accuracy:75.50%\n",
            "Epoch: 284, Loss: 0.4031, Accuracy: 81.15%, Test Loss: 0.5305, Test Accuracy:75.56%\n",
            "Epoch: 285, Loss: 0.4037, Accuracy: 80.84%, Test Loss: 0.5342, Test Accuracy:75.12%\n",
            "Epoch: 286, Loss: 0.4069, Accuracy: 80.84%, Test Loss: 0.5495, Test Accuracy:75.09%\n",
            "Epoch: 287, Loss: 0.4169, Accuracy: 79.89%, Test Loss: 0.5845, Test Accuracy:72.69%\n",
            "Epoch: 288, Loss: 0.4579, Accuracy: 77.63%, Test Loss: 0.6298, Test Accuracy:72.36%\n",
            "Epoch: 289, Loss: 0.5009, Accuracy: 75.81%, Test Loss: 0.5802, Test Accuracy:72.43%\n",
            "Epoch: 290, Loss: 0.4699, Accuracy: 77.24%, Test Loss: 0.5358, Test Accuracy:74.50%\n",
            "Epoch: 291, Loss: 0.4304, Accuracy: 79.50%, Test Loss: 0.5803, Test Accuracy:73.00%\n",
            "Epoch: 292, Loss: 0.4689, Accuracy: 76.99%, Test Loss: 0.5462, Test Accuracy:74.09%\n",
            "Epoch: 293, Loss: 0.4375, Accuracy: 78.80%, Test Loss: 0.5468, Test Accuracy:74.22%\n",
            "Epoch: 294, Loss: 0.4378, Accuracy: 78.73%, Test Loss: 0.5631, Test Accuracy:73.34%\n",
            "Epoch: 295, Loss: 0.4473, Accuracy: 78.21%, Test Loss: 0.5326, Test Accuracy:75.03%\n",
            "Epoch: 296, Loss: 0.4224, Accuracy: 79.79%, Test Loss: 0.5394, Test Accuracy:74.66%\n",
            "Epoch: 297, Loss: 0.4330, Accuracy: 79.59%, Test Loss: 0.5344, Test Accuracy:74.68%\n",
            "Epoch: 298, Loss: 0.4246, Accuracy: 79.77%, Test Loss: 0.5371, Test Accuracy:74.88%\n",
            "Epoch: 299, Loss: 0.4222, Accuracy: 79.84%, Test Loss: 0.5358, Test Accuracy:74.86%\n",
            "Epoch: 300, Loss: 0.4212, Accuracy: 80.14%, Test Loss: 0.5304, Test Accuracy:75.23%\n",
            "Epoch: 301, Loss: 0.4126, Accuracy: 80.49%, Test Loss: 0.5379, Test Accuracy:75.03%\n",
            "Epoch: 302, Loss: 0.4158, Accuracy: 80.25%, Test Loss: 0.5345, Test Accuracy:75.21%\n",
            "Epoch: 303, Loss: 0.4128, Accuracy: 80.66%, Test Loss: 0.5311, Test Accuracy:75.48%\n",
            "Epoch: 304, Loss: 0.4061, Accuracy: 80.86%, Test Loss: 0.5338, Test Accuracy:75.28%\n",
            "Epoch: 305, Loss: 0.4061, Accuracy: 80.91%, Test Loss: 0.5326, Test Accuracy:75.28%\n",
            "Epoch: 306, Loss: 0.4031, Accuracy: 81.16%, Test Loss: 0.5310, Test Accuracy:75.75%\n",
            "Epoch: 307, Loss: 0.4006, Accuracy: 81.08%, Test Loss: 0.5302, Test Accuracy:75.80%\n",
            "Epoch: 308, Loss: 0.3972, Accuracy: 81.71%, Test Loss: 0.5320, Test Accuracy:75.67%\n",
            "Epoch: 309, Loss: 0.3940, Accuracy: 81.77%, Test Loss: 0.5353, Test Accuracy:75.59%\n",
            "Epoch: 310, Loss: 0.3949, Accuracy: 81.47%, Test Loss: 0.5349, Test Accuracy:75.65%\n",
            "Epoch: 311, Loss: 0.3947, Accuracy: 81.73%, Test Loss: 0.5321, Test Accuracy:75.69%\n",
            "Epoch: 312, Loss: 0.3907, Accuracy: 81.71%, Test Loss: 0.5303, Test Accuracy:75.64%\n",
            "Epoch: 313, Loss: 0.3878, Accuracy: 82.00%, Test Loss: 0.5303, Test Accuracy:75.74%\n",
            "Epoch: 314, Loss: 0.3859, Accuracy: 82.00%, Test Loss: 0.5302, Test Accuracy:75.91%\n",
            "Epoch: 315, Loss: 0.3831, Accuracy: 82.09%, Test Loss: 0.5319, Test Accuracy:75.95%\n",
            "Epoch: 316, Loss: 0.3825, Accuracy: 82.29%, Test Loss: 0.5340, Test Accuracy:75.93%\n",
            "Epoch: 317, Loss: 0.3827, Accuracy: 82.27%, Test Loss: 0.5403, Test Accuracy:75.73%\n",
            "Epoch: 318, Loss: 0.3866, Accuracy: 82.22%, Test Loss: 0.5534, Test Accuracy:75.34%\n",
            "Epoch: 319, Loss: 0.3990, Accuracy: 80.67%, Test Loss: 0.6006, Test Accuracy:72.64%\n",
            "Epoch: 320, Loss: 0.4496, Accuracy: 77.94%, Test Loss: 0.6236, Test Accuracy:73.02%\n",
            "Epoch: 321, Loss: 0.4711, Accuracy: 77.01%, Test Loss: 0.5655, Test Accuracy:74.41%\n",
            "Epoch: 322, Loss: 0.4225, Accuracy: 80.38%, Test Loss: 0.5452, Test Accuracy:75.02%\n",
            "Epoch: 323, Loss: 0.4048, Accuracy: 81.18%, Test Loss: 0.5762, Test Accuracy:74.51%\n",
            "Epoch: 324, Loss: 0.4308, Accuracy: 79.09%, Test Loss: 0.5494, Test Accuracy:75.22%\n",
            "Epoch: 325, Loss: 0.4137, Accuracy: 80.64%, Test Loss: 0.5435, Test Accuracy:74.84%\n",
            "Epoch: 326, Loss: 0.4109, Accuracy: 80.50%, Test Loss: 0.5503, Test Accuracy:74.92%\n",
            "Epoch: 327, Loss: 0.4122, Accuracy: 80.17%, Test Loss: 0.5360, Test Accuracy:76.03%\n",
            "Epoch: 328, Loss: 0.3962, Accuracy: 81.35%, Test Loss: 0.5407, Test Accuracy:75.25%\n",
            "Epoch: 329, Loss: 0.4040, Accuracy: 80.94%, Test Loss: 0.5423, Test Accuracy:75.50%\n",
            "Epoch: 330, Loss: 0.3995, Accuracy: 81.21%, Test Loss: 0.5347, Test Accuracy:75.70%\n",
            "Epoch: 331, Loss: 0.3905, Accuracy: 81.71%, Test Loss: 0.5414, Test Accuracy:75.44%\n",
            "Epoch: 332, Loss: 0.3962, Accuracy: 81.49%, Test Loss: 0.5334, Test Accuracy:75.62%\n",
            "Epoch: 333, Loss: 0.3867, Accuracy: 81.90%, Test Loss: 0.5338, Test Accuracy:75.72%\n",
            "Epoch: 334, Loss: 0.3855, Accuracy: 82.10%, Test Loss: 0.5358, Test Accuracy:76.15%\n",
            "Epoch: 335, Loss: 0.3862, Accuracy: 82.03%, Test Loss: 0.5336, Test Accuracy:76.11%\n",
            "Epoch: 336, Loss: 0.3819, Accuracy: 81.96%, Test Loss: 0.5340, Test Accuracy:76.03%\n",
            "Epoch: 337, Loss: 0.3787, Accuracy: 82.50%, Test Loss: 0.5354, Test Accuracy:76.00%\n",
            "Epoch: 338, Loss: 0.3762, Accuracy: 82.68%, Test Loss: 0.5397, Test Accuracy:76.10%\n",
            "Epoch: 339, Loss: 0.3777, Accuracy: 82.37%, Test Loss: 0.5380, Test Accuracy:76.11%\n",
            "Epoch: 340, Loss: 0.3736, Accuracy: 82.98%, Test Loss: 0.5358, Test Accuracy:76.24%\n",
            "Epoch: 341, Loss: 0.3716, Accuracy: 82.74%, Test Loss: 0.5374, Test Accuracy:76.32%\n",
            "Epoch: 342, Loss: 0.3692, Accuracy: 83.17%, Test Loss: 0.5350, Test Accuracy:76.06%\n",
            "Epoch: 343, Loss: 0.3659, Accuracy: 83.37%, Test Loss: 0.5360, Test Accuracy:76.26%\n",
            "Epoch: 344, Loss: 0.3674, Accuracy: 83.13%, Test Loss: 0.5376, Test Accuracy:76.80%\n",
            "Epoch: 345, Loss: 0.3669, Accuracy: 83.32%, Test Loss: 0.5386, Test Accuracy:76.55%\n",
            "Epoch: 346, Loss: 0.3684, Accuracy: 82.88%, Test Loss: 0.5471, Test Accuracy:76.24%\n",
            "Epoch: 347, Loss: 0.3737, Accuracy: 82.83%, Test Loss: 0.5593, Test Accuracy:75.69%\n",
            "Epoch: 348, Loss: 0.3829, Accuracy: 81.96%, Test Loss: 0.5627, Test Accuracy:75.62%\n",
            "Epoch: 349, Loss: 0.3861, Accuracy: 82.33%, Test Loss: 0.5535, Test Accuracy:75.50%\n",
            "Epoch: 350, Loss: 0.3822, Accuracy: 81.91%, Test Loss: 0.5474, Test Accuracy:76.19%\n",
            "Epoch: 351, Loss: 0.3776, Accuracy: 82.58%, Test Loss: 0.5359, Test Accuracy:76.60%\n",
            "Epoch: 352, Loss: 0.3629, Accuracy: 83.38%, Test Loss: 0.5479, Test Accuracy:76.39%\n",
            "Epoch: 353, Loss: 0.3672, Accuracy: 83.02%, Test Loss: 0.5534, Test Accuracy:76.23%\n",
            "Epoch: 354, Loss: 0.3735, Accuracy: 82.97%, Test Loss: 0.5573, Test Accuracy:75.91%\n",
            "Epoch: 355, Loss: 0.3820, Accuracy: 82.03%, Test Loss: 0.5598, Test Accuracy:75.77%\n",
            "Epoch: 356, Loss: 0.3822, Accuracy: 82.53%, Test Loss: 0.5521, Test Accuracy:75.97%\n",
            "Epoch: 357, Loss: 0.3699, Accuracy: 82.41%, Test Loss: 0.5424, Test Accuracy:76.89%\n",
            "Epoch: 358, Loss: 0.3635, Accuracy: 83.32%, Test Loss: 0.5387, Test Accuracy:76.93%\n",
            "Epoch: 359, Loss: 0.3588, Accuracy: 83.87%, Test Loss: 0.5494, Test Accuracy:76.20%\n",
            "Epoch: 360, Loss: 0.3648, Accuracy: 82.79%, Test Loss: 0.5534, Test Accuracy:76.40%\n",
            "Epoch: 361, Loss: 0.3677, Accuracy: 83.17%, Test Loss: 0.5516, Test Accuracy:76.10%\n",
            "Epoch: 362, Loss: 0.3688, Accuracy: 83.15%, Test Loss: 0.5532, Test Accuracy:76.61%\n",
            "Epoch: 363, Loss: 0.3664, Accuracy: 83.39%, Test Loss: 0.5462, Test Accuracy:76.42%\n",
            "Epoch: 364, Loss: 0.3592, Accuracy: 83.48%, Test Loss: 0.5463, Test Accuracy:76.56%\n",
            "Epoch: 365, Loss: 0.3554, Accuracy: 83.70%, Test Loss: 0.5462, Test Accuracy:76.79%\n",
            "Epoch: 366, Loss: 0.3531, Accuracy: 84.04%, Test Loss: 0.5442, Test Accuracy:76.78%\n",
            "Epoch: 367, Loss: 0.3511, Accuracy: 84.01%, Test Loss: 0.5418, Test Accuracy:77.07%\n",
            "Epoch: 368, Loss: 0.3499, Accuracy: 84.16%, Test Loss: 0.5423, Test Accuracy:76.81%\n",
            "Epoch: 369, Loss: 0.3481, Accuracy: 84.22%, Test Loss: 0.5488, Test Accuracy:77.05%\n",
            "Epoch: 370, Loss: 0.3489, Accuracy: 84.33%, Test Loss: 0.5527, Test Accuracy:76.85%\n",
            "Epoch: 371, Loss: 0.3525, Accuracy: 83.89%, Test Loss: 0.5577, Test Accuracy:76.52%\n",
            "Epoch: 372, Loss: 0.3548, Accuracy: 83.91%, Test Loss: 0.5721, Test Accuracy:75.58%\n",
            "Epoch: 373, Loss: 0.3710, Accuracy: 82.24%, Test Loss: 0.6229, Test Accuracy:74.51%\n",
            "Epoch: 374, Loss: 0.4169, Accuracy: 80.36%, Test Loss: 0.6455, Test Accuracy:73.72%\n",
            "Epoch: 375, Loss: 0.4460, Accuracy: 78.73%, Test Loss: 0.6008, Test Accuracy:74.33%\n",
            "Epoch: 376, Loss: 0.4142, Accuracy: 80.60%, Test Loss: 0.5514, Test Accuracy:76.28%\n",
            "Epoch: 377, Loss: 0.3676, Accuracy: 83.04%, Test Loss: 0.5988, Test Accuracy:74.98%\n",
            "Epoch: 378, Loss: 0.4042, Accuracy: 80.88%, Test Loss: 0.5844, Test Accuracy:75.51%\n",
            "Epoch: 379, Loss: 0.3962, Accuracy: 81.58%, Test Loss: 0.5520, Test Accuracy:76.36%\n",
            "Epoch: 380, Loss: 0.3742, Accuracy: 82.52%, Test Loss: 0.5699, Test Accuracy:75.51%\n",
            "Epoch: 381, Loss: 0.3930, Accuracy: 81.01%, Test Loss: 0.5540, Test Accuracy:76.28%\n",
            "Epoch: 382, Loss: 0.3740, Accuracy: 82.69%, Test Loss: 0.5501, Test Accuracy:76.58%\n",
            "Epoch: 383, Loss: 0.3683, Accuracy: 83.07%, Test Loss: 0.5615, Test Accuracy:75.81%\n",
            "Epoch: 384, Loss: 0.3781, Accuracy: 82.02%, Test Loss: 0.5478, Test Accuracy:76.34%\n",
            "Epoch: 385, Loss: 0.3636, Accuracy: 83.60%, Test Loss: 0.5515, Test Accuracy:76.43%\n",
            "Epoch: 386, Loss: 0.3621, Accuracy: 83.50%, Test Loss: 0.5580, Test Accuracy:76.01%\n",
            "Epoch: 387, Loss: 0.3644, Accuracy: 83.02%, Test Loss: 0.5514, Test Accuracy:76.88%\n",
            "Epoch: 388, Loss: 0.3542, Accuracy: 83.94%, Test Loss: 0.5459, Test Accuracy:76.90%\n",
            "Epoch: 389, Loss: 0.3525, Accuracy: 84.05%, Test Loss: 0.5451, Test Accuracy:76.54%\n",
            "Epoch: 390, Loss: 0.3541, Accuracy: 83.77%, Test Loss: 0.5474, Test Accuracy:77.24%\n",
            "Epoch: 391, Loss: 0.3499, Accuracy: 84.38%, Test Loss: 0.5459, Test Accuracy:76.98%\n",
            "Epoch: 392, Loss: 0.3445, Accuracy: 84.59%, Test Loss: 0.5498, Test Accuracy:76.78%\n",
            "Epoch: 393, Loss: 0.3456, Accuracy: 84.45%, Test Loss: 0.5517, Test Accuracy:77.02%\n",
            "Epoch: 394, Loss: 0.3458, Accuracy: 84.38%, Test Loss: 0.5454, Test Accuracy:77.18%\n",
            "Epoch: 395, Loss: 0.3408, Accuracy: 84.69%, Test Loss: 0.5473, Test Accuracy:77.01%\n",
            "Epoch: 396, Loss: 0.3383, Accuracy: 85.01%, Test Loss: 0.5523, Test Accuracy:77.31%\n",
            "Epoch: 397, Loss: 0.3379, Accuracy: 85.01%, Test Loss: 0.5498, Test Accuracy:77.11%\n",
            "Epoch: 398, Loss: 0.3359, Accuracy: 85.15%, Test Loss: 0.5537, Test Accuracy:77.49%\n",
            "Epoch: 399, Loss: 0.3345, Accuracy: 85.12%, Test Loss: 0.5544, Test Accuracy:77.13%\n",
            "Epoch: 400, Loss: 0.3331, Accuracy: 85.08%, Test Loss: 0.5521, Test Accuracy:77.35%\n",
            "Epoch: 401, Loss: 0.3306, Accuracy: 85.22%, Test Loss: 0.5507, Test Accuracy:77.47%\n",
            "Epoch: 402, Loss: 0.3293, Accuracy: 85.39%, Test Loss: 0.5492, Test Accuracy:77.52%\n",
            "Epoch: 403, Loss: 0.3277, Accuracy: 85.43%, Test Loss: 0.5494, Test Accuracy:77.58%\n",
            "Epoch: 404, Loss: 0.3270, Accuracy: 85.46%, Test Loss: 0.5522, Test Accuracy:77.66%\n",
            "Epoch: 405, Loss: 0.3244, Accuracy: 85.63%, Test Loss: 0.5564, Test Accuracy:77.73%\n",
            "Epoch: 406, Loss: 0.3240, Accuracy: 85.69%, Test Loss: 0.5552, Test Accuracy:77.68%\n",
            "Epoch: 407, Loss: 0.3226, Accuracy: 85.79%, Test Loss: 0.5560, Test Accuracy:77.67%\n",
            "Epoch: 408, Loss: 0.3223, Accuracy: 85.71%, Test Loss: 0.5620, Test Accuracy:77.55%\n",
            "Epoch: 409, Loss: 0.3255, Accuracy: 85.45%, Test Loss: 0.5831, Test Accuracy:77.09%\n",
            "Epoch: 410, Loss: 0.3497, Accuracy: 84.20%, Test Loss: 0.6246, Test Accuracy:75.06%\n",
            "Epoch: 411, Loss: 0.3812, Accuracy: 82.10%, Test Loss: 0.6972, Test Accuracy:72.68%\n",
            "Epoch: 412, Loss: 0.4665, Accuracy: 77.92%, Test Loss: 0.8090, Test Accuracy:70.17%\n",
            "Epoch: 413, Loss: 0.5865, Accuracy: 74.24%, Test Loss: 0.6532, Test Accuracy:73.48%\n",
            "Epoch: 414, Loss: 0.4572, Accuracy: 78.88%, Test Loss: 0.6326, Test Accuracy:73.64%\n",
            "Epoch: 415, Loss: 0.4387, Accuracy: 79.49%, Test Loss: 0.6301, Test Accuracy:74.00%\n",
            "Epoch: 416, Loss: 0.4425, Accuracy: 79.84%, Test Loss: 0.6041, Test Accuracy:74.49%\n",
            "Epoch: 417, Loss: 0.4217, Accuracy: 80.83%, Test Loss: 0.6112, Test Accuracy:74.13%\n",
            "Epoch: 418, Loss: 0.4395, Accuracy: 79.29%, Test Loss: 0.5572, Test Accuracy:75.52%\n",
            "Epoch: 419, Loss: 0.3979, Accuracy: 81.57%, Test Loss: 0.5663, Test Accuracy:74.94%\n",
            "Epoch: 420, Loss: 0.4149, Accuracy: 80.53%, Test Loss: 0.5543, Test Accuracy:75.51%\n",
            "Epoch: 421, Loss: 0.4001, Accuracy: 81.37%, Test Loss: 0.5658, Test Accuracy:75.81%\n",
            "Epoch: 422, Loss: 0.4048, Accuracy: 80.57%, Test Loss: 0.5490, Test Accuracy:76.29%\n",
            "Epoch: 423, Loss: 0.3863, Accuracy: 81.83%, Test Loss: 0.5510, Test Accuracy:76.27%\n",
            "Epoch: 424, Loss: 0.3866, Accuracy: 82.19%, Test Loss: 0.5510, Test Accuracy:76.10%\n",
            "Epoch: 425, Loss: 0.3832, Accuracy: 82.31%, Test Loss: 0.5514, Test Accuracy:76.50%\n",
            "Epoch: 426, Loss: 0.3751, Accuracy: 82.78%, Test Loss: 0.5514, Test Accuracy:77.01%\n",
            "Epoch: 427, Loss: 0.3659, Accuracy: 83.40%, Test Loss: 0.5556, Test Accuracy:76.33%\n",
            "Epoch: 428, Loss: 0.3674, Accuracy: 83.20%, Test Loss: 0.5508, Test Accuracy:76.41%\n",
            "Epoch: 429, Loss: 0.3623, Accuracy: 83.44%, Test Loss: 0.5470, Test Accuracy:76.36%\n",
            "Epoch: 430, Loss: 0.3569, Accuracy: 83.63%, Test Loss: 0.5468, Test Accuracy:76.92%\n",
            "Epoch: 431, Loss: 0.3528, Accuracy: 84.08%, Test Loss: 0.5481, Test Accuracy:76.81%\n",
            "Epoch: 432, Loss: 0.3532, Accuracy: 83.87%, Test Loss: 0.5420, Test Accuracy:77.22%\n",
            "Epoch: 433, Loss: 0.3459, Accuracy: 84.43%, Test Loss: 0.5427, Test Accuracy:77.41%\n",
            "Epoch: 434, Loss: 0.3432, Accuracy: 84.73%, Test Loss: 0.5477, Test Accuracy:77.40%\n",
            "Epoch: 435, Loss: 0.3421, Accuracy: 84.74%, Test Loss: 0.5546, Test Accuracy:76.88%\n",
            "Epoch: 436, Loss: 0.3398, Accuracy: 84.74%, Test Loss: 0.5536, Test Accuracy:76.82%\n",
            "Epoch: 437, Loss: 0.3358, Accuracy: 84.93%, Test Loss: 0.5526, Test Accuracy:77.24%\n",
            "Epoch: 438, Loss: 0.3338, Accuracy: 85.05%, Test Loss: 0.5503, Test Accuracy:77.30%\n",
            "Epoch: 439, Loss: 0.3307, Accuracy: 85.32%, Test Loss: 0.5494, Test Accuracy:77.33%\n",
            "Epoch: 440, Loss: 0.3290, Accuracy: 85.33%, Test Loss: 0.5527, Test Accuracy:77.52%\n",
            "Epoch: 441, Loss: 0.3277, Accuracy: 85.49%, Test Loss: 0.5558, Test Accuracy:77.63%\n",
            "Epoch: 442, Loss: 0.3250, Accuracy: 85.49%, Test Loss: 0.5582, Test Accuracy:77.54%\n",
            "Epoch: 443, Loss: 0.3232, Accuracy: 85.62%, Test Loss: 0.5597, Test Accuracy:77.70%\n",
            "Epoch: 444, Loss: 0.3213, Accuracy: 85.80%, Test Loss: 0.5601, Test Accuracy:77.92%\n",
            "Epoch: 445, Loss: 0.3195, Accuracy: 85.96%, Test Loss: 0.5592, Test Accuracy:77.68%\n",
            "Epoch: 446, Loss: 0.3175, Accuracy: 86.04%, Test Loss: 0.5576, Test Accuracy:77.98%\n",
            "Epoch: 447, Loss: 0.3161, Accuracy: 86.15%, Test Loss: 0.5557, Test Accuracy:78.02%\n",
            "Epoch: 448, Loss: 0.3148, Accuracy: 86.22%, Test Loss: 0.5567, Test Accuracy:78.02%\n",
            "Epoch: 449, Loss: 0.3134, Accuracy: 86.24%, Test Loss: 0.5595, Test Accuracy:78.07%\n",
            "Epoch: 450, Loss: 0.3117, Accuracy: 86.21%, Test Loss: 0.5630, Test Accuracy:78.05%\n",
            "Epoch: 451, Loss: 0.3106, Accuracy: 86.34%, Test Loss: 0.5644, Test Accuracy:77.77%\n",
            "Epoch: 452, Loss: 0.3093, Accuracy: 86.44%, Test Loss: 0.5657, Test Accuracy:77.99%\n",
            "Epoch: 453, Loss: 0.3079, Accuracy: 86.51%, Test Loss: 0.5659, Test Accuracy:78.11%\n",
            "Epoch: 454, Loss: 0.3070, Accuracy: 86.65%, Test Loss: 0.5666, Test Accuracy:78.08%\n",
            "Epoch: 455, Loss: 0.3058, Accuracy: 86.70%, Test Loss: 0.5679, Test Accuracy:78.10%\n",
            "Epoch: 456, Loss: 0.3047, Accuracy: 86.88%, Test Loss: 0.5671, Test Accuracy:78.10%\n",
            "Epoch: 457, Loss: 0.3038, Accuracy: 86.80%, Test Loss: 0.5707, Test Accuracy:78.07%\n",
            "Epoch: 458, Loss: 0.3030, Accuracy: 86.84%, Test Loss: 0.5746, Test Accuracy:78.12%\n",
            "Epoch: 459, Loss: 0.3029, Accuracy: 86.78%, Test Loss: 0.5780, Test Accuracy:78.05%\n",
            "Epoch: 460, Loss: 0.3050, Accuracy: 86.73%, Test Loss: 0.5857, Test Accuracy:77.17%\n",
            "Epoch: 461, Loss: 0.3139, Accuracy: 85.89%, Test Loss: 0.6232, Test Accuracy:76.40%\n",
            "Epoch: 462, Loss: 0.3450, Accuracy: 84.08%, Test Loss: 0.6647, Test Accuracy:74.55%\n",
            "Epoch: 463, Loss: 0.3918, Accuracy: 81.06%, Test Loss: 0.7587, Test Accuracy:72.58%\n",
            "Epoch: 464, Loss: 0.4796, Accuracy: 77.94%, Test Loss: 0.6408, Test Accuracy:74.83%\n",
            "Epoch: 465, Loss: 0.3839, Accuracy: 81.88%, Test Loss: 0.5993, Test Accuracy:76.03%\n",
            "Epoch: 466, Loss: 0.3515, Accuracy: 83.61%, Test Loss: 0.6812, Test Accuracy:74.14%\n",
            "Epoch: 467, Loss: 0.4227, Accuracy: 80.23%, Test Loss: 0.5788, Test Accuracy:76.93%\n",
            "Epoch: 468, Loss: 0.3368, Accuracy: 84.70%, Test Loss: 0.6113, Test Accuracy:75.55%\n",
            "Epoch: 469, Loss: 0.3719, Accuracy: 82.30%, Test Loss: 0.5938, Test Accuracy:76.00%\n",
            "Epoch: 470, Loss: 0.3632, Accuracy: 83.14%, Test Loss: 0.5857, Test Accuracy:76.01%\n",
            "Epoch: 471, Loss: 0.3536, Accuracy: 83.74%, Test Loss: 0.5998, Test Accuracy:76.03%\n",
            "Epoch: 472, Loss: 0.3615, Accuracy: 83.05%, Test Loss: 0.5711, Test Accuracy:77.71%\n",
            "Epoch: 473, Loss: 0.3277, Accuracy: 85.34%, Test Loss: 0.5972, Test Accuracy:76.79%\n",
            "Epoch: 474, Loss: 0.3519, Accuracy: 84.12%, Test Loss: 0.5708, Test Accuracy:77.08%\n",
            "Epoch: 475, Loss: 0.3279, Accuracy: 85.44%, Test Loss: 0.5859, Test Accuracy:76.65%\n",
            "Epoch: 476, Loss: 0.3391, Accuracy: 84.29%, Test Loss: 0.5762, Test Accuracy:77.67%\n",
            "Epoch: 477, Loss: 0.3275, Accuracy: 85.48%, Test Loss: 0.5793, Test Accuracy:77.28%\n",
            "Epoch: 478, Loss: 0.3293, Accuracy: 85.33%, Test Loss: 0.5752, Test Accuracy:77.21%\n",
            "Epoch: 479, Loss: 0.3231, Accuracy: 85.50%, Test Loss: 0.5764, Test Accuracy:77.59%\n",
            "Epoch: 480, Loss: 0.3180, Accuracy: 85.86%, Test Loss: 0.5817, Test Accuracy:77.72%\n",
            "Epoch: 481, Loss: 0.3193, Accuracy: 85.98%, Test Loss: 0.5726, Test Accuracy:77.55%\n",
            "Epoch: 482, Loss: 0.3119, Accuracy: 86.16%, Test Loss: 0.5755, Test Accuracy:77.36%\n",
            "Epoch: 483, Loss: 0.3134, Accuracy: 85.99%, Test Loss: 0.5734, Test Accuracy:77.66%\n",
            "Epoch: 484, Loss: 0.3104, Accuracy: 86.30%, Test Loss: 0.5733, Test Accuracy:78.07%\n",
            "Epoch: 485, Loss: 0.3050, Accuracy: 86.74%, Test Loss: 0.5796, Test Accuracy:77.64%\n",
            "Epoch: 486, Loss: 0.3079, Accuracy: 86.34%, Test Loss: 0.5782, Test Accuracy:77.88%\n",
            "Epoch: 487, Loss: 0.3030, Accuracy: 86.95%, Test Loss: 0.5764, Test Accuracy:77.89%\n",
            "Epoch: 488, Loss: 0.3016, Accuracy: 86.95%, Test Loss: 0.5781, Test Accuracy:77.77%\n",
            "Epoch: 489, Loss: 0.3018, Accuracy: 86.67%, Test Loss: 0.5779, Test Accuracy:78.03%\n",
            "Epoch: 490, Loss: 0.2990, Accuracy: 86.99%, Test Loss: 0.5775, Test Accuracy:78.05%\n",
            "Epoch: 491, Loss: 0.2953, Accuracy: 87.22%, Test Loss: 0.5840, Test Accuracy:77.96%\n",
            "Epoch: 492, Loss: 0.2976, Accuracy: 86.98%, Test Loss: 0.5846, Test Accuracy:78.37%\n",
            "Epoch: 493, Loss: 0.2939, Accuracy: 87.30%, Test Loss: 0.5835, Test Accuracy:78.10%\n",
            "Epoch: 494, Loss: 0.2917, Accuracy: 87.39%, Test Loss: 0.5868, Test Accuracy:78.44%\n",
            "Epoch: 495, Loss: 0.2919, Accuracy: 87.30%, Test Loss: 0.5875, Test Accuracy:78.16%\n",
            "Epoch: 496, Loss: 0.2909, Accuracy: 87.50%, Test Loss: 0.5863, Test Accuracy:78.11%\n",
            "Epoch: 497, Loss: 0.2886, Accuracy: 87.57%, Test Loss: 0.5857, Test Accuracy:78.23%\n",
            "Epoch: 498, Loss: 0.2880, Accuracy: 87.61%, Test Loss: 0.5893, Test Accuracy:78.31%\n",
            "Epoch: 499, Loss: 0.2863, Accuracy: 87.83%, Test Loss: 0.5905, Test Accuracy:78.27%\n",
            "Epoch: 500, Loss: 0.2852, Accuracy: 87.81%, Test Loss: 0.5885, Test Accuracy:78.40%\n",
            "Epoch: 501, Loss: 0.2853, Accuracy: 87.89%, Test Loss: 0.5958, Test Accuracy:78.25%\n"
          ]
        }
      ]
    },
    {
      "cell_type": "markdown",
      "source": [
        "# 9. Re-evaluating the Model"
      ],
      "metadata": {
        "id": "ZHdplwo4TPPk"
      }
    },
    {
      "cell_type": "code",
      "source": [
        "class_zero = 0\n",
        "class_one = 0\n",
        "\n",
        "for i in range(len(test_pred)):\n",
        "  if test_pred[i] == 0:\n",
        "    class_zero += 1\n",
        "  elif test_pred[i] == 1:\n",
        "    class_one += 1\n",
        "\n",
        "\n",
        "print(f'Predictions:\\nClass zero: {class_zero}\\nClass one: {class_one}')"
      ],
      "metadata": {
        "colab": {
          "base_uri": "https://localhost:8080/"
        },
        "id": "eZyWgxqWMAJE",
        "outputId": "332d06b4-325a-447b-f387-131d028469ed"
      },
      "execution_count": null,
      "outputs": [
        {
          "output_type": "stream",
          "name": "stdout",
          "text": [
            "Predictions:\n",
            "Class zero: 4109\n",
            "Class one: 5237\n"
          ]
        }
      ]
    },
    {
      "cell_type": "code",
      "source": [
        "class_zero = 0\n",
        "class_one = 0\n",
        "\n",
        "for i in range(len(y_test_new)):\n",
        "  if y_test_new[i] == 0:\n",
        "    class_zero += 1\n",
        "  elif y_test_new[i] == 1:\n",
        "    class_one += 1\n",
        "\n",
        "print(f'Actual:\\nClass zero: {class_zero}\\nClass one: {class_one}')"
      ],
      "metadata": {
        "colab": {
          "base_uri": "https://localhost:8080/"
        },
        "id": "d4lHIRgDMCaA",
        "outputId": "0b89d953-4430-4fa2-b6bd-44b56617bb97"
      },
      "execution_count": null,
      "outputs": [
        {
          "output_type": "stream",
          "name": "stdout",
          "text": [
            "Actual:\n",
            "Class zero: 4620\n",
            "Class one: 4726\n"
          ]
        }
      ]
    },
    {
      "cell_type": "code",
      "source": [
        "show_confusion_matrix(y_test_new, test_pred)"
      ],
      "metadata": {
        "colab": {
          "base_uri": "https://localhost:8080/",
          "height": 472
        },
        "id": "RPoDRO5YMNuN",
        "outputId": "140357ef-6841-40fc-b266-d92f0f0fb293"
      },
      "execution_count": null,
      "outputs": [
        {
          "output_type": "display_data",
          "data": {
            "text/plain": [
              "<Figure size 640x480 with 2 Axes>"
            ],
            "image/png": "[encoded data removed]"
          },
          "metadata": {}
        }
      ]
    },
    {
      "cell_type": "code",
      "source": [
        "plot_roc_curve(y_test_new, test_logits)"
      ],
      "metadata": {
        "colab": {
          "base_uri": "https://localhost:8080/",
          "height": 472
        },
        "id": "-rLBIC5eMVRb",
        "outputId": "25884608-1823-42d9-ba41-3a728b079095"
      },
      "execution_count": null,
      "outputs": [
        {
          "output_type": "display_data",
          "data": {
            "text/plain": [
              "<Figure size 640x480 with 1 Axes>"
            ],
            "image/png": "[encoded data removed]"
          },
          "metadata": {}
        }
      ]
    },
    {
      "cell_type": "code",
      "source": [
        "plot_precision_recall(y_test_new, test_logits)"
      ],
      "metadata": {
        "colab": {
          "base_uri": "https://localhost:8080/",
          "height": 428
        },
        "id": "pKithKKgMaJb",
        "outputId": "0395113e-174d-4cde-a684-d5217bbc9212"
      },
      "execution_count": null,
      "outputs": [
        {
          "output_type": "display_data",
          "data": {
            "text/plain": [
              "<Figure size 600x400 with 1 Axes>"
            ],
            "image/png": "[encoded data removed]"
          },
          "metadata": {}
        },
        {
          "output_type": "stream",
          "name": "stdout",
          "text": [
            "Precision-Recall AUC: 0.8021\n"
          ]
        }
      ]
    }
  ]
}